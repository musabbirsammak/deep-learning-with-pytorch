{
 "cells": [
  {
   "attachments": {},
   "cell_type": "markdown",
   "metadata": {},
   "source": [
    "# Tensors\n",
    "A tensor is essentially a matrix that can have multiple discrete dimensions. For example, a 2D tensor can represent a grayscale or black and white image. Similarly, a 3D tensor can represent a multi-channel color image. Lastly, a 4D tensor can represent a sequence of images.\n",
    "\n",
    "Among many of the features that PyTorch tensors provide, some important ones are as follows:\n",
    "- Efficient computation on both CPU and GPU (*NumPy doesn't support GPU*)\n",
    "- Automatic differentiation (*NumPy doesn't have this capability*)\n",
    "- Efficient data Input/Output"
   ]
  },
  {
   "cell_type": "code",
   "execution_count": 1,
   "metadata": {},
   "outputs": [],
   "source": [
    "import numpy as np\n",
    "import pandas as pd\n",
    "import torch\n",
    "\n",
    "# fastai is a higher level library for PyTorch\n",
    "from fastai.vision.all import *"
   ]
  },
  {
   "cell_type": "code",
   "execution_count": 4,
   "metadata": {},
   "outputs": [
    {
     "data": {
      "text/plain": [
       "'2.0.0+cu118'"
      ]
     },
     "execution_count": 4,
     "metadata": {},
     "output_type": "execute_result"
    }
   ],
   "source": [
    "# Check PyTorch Version\n",
    "torch.__version__"
   ]
  },
  {
   "cell_type": "markdown",
   "metadata": {},
   "source": [
    "# Initializing Tensor"
   ]
  },
  {
   "cell_type": "markdown",
   "metadata": {},
   "source": [
    "Tensors can run both in CPU and GPU. `torch.cuda.is_available()` is a convenient function to check if your environment supports GPU."
   ]
  },
  {
   "cell_type": "code",
   "execution_count": 5,
   "metadata": {},
   "outputs": [
    {
     "name": "stdout",
     "output_type": "stream",
     "text": [
      "cuda\n"
     ]
    }
   ],
   "source": [
    "# setting device\n",
    "device = 'cuda' if torch.cuda.is_available() else 'cpu'\n",
    "print(device)"
   ]
  },
  {
   "cell_type": "markdown",
   "metadata": {},
   "source": [
    "A `Tensor` can be created from a Python list, with a designated data type, and on a specified device. The `requires_grad` tells whether to compute gradients for any operation with this variable. We will explore this autograd functionality later in this tutorial."
   ]
  },
  {
   "cell_type": "code",
   "execution_count": 8,
   "metadata": {},
   "outputs": [
    {
     "data": {
      "text/plain": [
       "tensor([[1., 2., 3., 4., 5.],\n",
       "        [1., 2., 3., 4., 5.]], device='cuda:0', requires_grad=True)"
      ]
     },
     "execution_count": 8,
     "metadata": {},
     "output_type": "execute_result"
    }
   ],
   "source": [
    "x = torch.tensor([1, 2, 3, 4, 5], dtype=torch.float32, device=device, requires_grad=True)\n",
    "x"
   ]
  },
  {
   "cell_type": "markdown",
   "metadata": {},
   "source": [
    "Each instances of a `Tensor` object has the following usefult properties.\n",
    "- `ndim` returns the number of *axes* or *dimensions* of the tensor. It is also called the *rank* of a tensor. For example, the above tensor has rank of 1 since it has only 1 axis. In contrast, a $5\\times10$ tensor will have a rank of 2 since it has 2 axes (rows and columns).\n",
    "- `shape` returns the length of each axis or rank. For example, a $15\\times10\\times5$ tensor has 3 dimensions or axes, and the shape of each axes are 15, 10, and 5 respectively."
   ]
  },
  {
   "cell_type": "code",
   "execution_count": 9,
   "metadata": {},
   "outputs": [
    {
     "name": "stdout",
     "output_type": "stream",
     "text": [
      "Total number of elements:  10\n",
      "Data type of each element:  torch.float32\n",
      "Rank/Dimension:  2\n",
      "Length of each dimension:  torch.Size([2, 5])\n",
      "True\n",
      "cuda:0\n"
     ]
    }
   ],
   "source": [
    "print('Total number of elements: ', x.numel())\n",
    "print('Data type of each element: ', x.dtype)\n",
    "print('Rank/Dimension: ', x.ndim)\n",
    "print('Length of each dimension: ', x.shape)\n",
    "print(x.requires_grad)\n",
    "print(x.device)"
   ]
  },
  {
   "cell_type": "markdown",
   "metadata": {},
   "source": [
    "### `tensor()` Vs. `as_tensor()` Vs. `from_numpy()`"
   ]
  },
  {
   "cell_type": "markdown",
   "metadata": {},
   "source": [
    "- `torch.tensor()` always copies data and discards and previous autograd history.\n",
    "- If you do not want to copy data and share autograd history, you may use `torch.as_tensor()`.\n",
    "- `torch.from_numpy()` creates a tensor that shares storage with a NumPy array."
   ]
  },
  {
   "cell_type": "code",
   "execution_count": 10,
   "metadata": {},
   "outputs": [
    {
     "data": {
      "text/plain": [
       "array([0., 1., 2., 3., 4.], dtype=float32)"
      ]
     },
     "execution_count": 10,
     "metadata": {},
     "output_type": "execute_result"
    }
   ],
   "source": [
    "y = np.arange(5, dtype=np.float32)\n",
    "y"
   ]
  },
  {
   "cell_type": "code",
   "execution_count": 11,
   "metadata": {},
   "outputs": [
    {
     "data": {
      "text/plain": [
       "tensor([0., 1., 2., 3., 4.])"
      ]
     },
     "execution_count": 11,
     "metadata": {},
     "output_type": "execute_result"
    }
   ],
   "source": [
    "z = torch.from_numpy(y)\n",
    "z"
   ]
  },
  {
   "attachments": {},
   "cell_type": "markdown",
   "metadata": {},
   "source": [
    "Modification to `z` will be reflected on `y` and vice-versa since they share memory storage now."
   ]
  },
  {
   "cell_type": "code",
   "execution_count": 12,
   "metadata": {},
   "outputs": [
    {
     "name": "stdout",
     "output_type": "stream",
     "text": [
      "tensor([100.7500,   1.0000,   2.0000,   3.0000,   4.0000])\n",
      "[100.75   1.     2.     3.     4.  ]\n"
     ]
    }
   ],
   "source": [
    "z[0] = 100.75\n",
    "print(z)\n",
    "print(y)"
   ]
  },
  {
   "attachments": {},
   "cell_type": "markdown",
   "metadata": {},
   "source": [
    "But, if you use the `tensor` function, the values of y is copied to z and they are not using the same memory address. So, any change in z will not be reflected in y and vice-versa."
   ]
  },
  {
   "cell_type": "code",
   "execution_count": 13,
   "metadata": {},
   "outputs": [
    {
     "data": {
      "text/plain": [
       "tensor([100.7500,   1.0000,   2.0000,   3.0000,   4.0000])"
      ]
     },
     "execution_count": 13,
     "metadata": {},
     "output_type": "execute_result"
    }
   ],
   "source": [
    "z = torch.tensor(y)\n",
    "z"
   ]
  },
  {
   "cell_type": "code",
   "execution_count": 14,
   "metadata": {},
   "outputs": [
    {
     "name": "stdout",
     "output_type": "stream",
     "text": [
      "tensor([500.7500,   1.0000,   2.0000,   3.0000,   4.0000])\n",
      "[100.75   1.     2.     3.     4.  ]\n"
     ]
    }
   ],
   "source": [
    "z[0] = 500.75\n",
    "print(z)\n",
    "print(y)"
   ]
  },
  {
   "attachments": {},
   "cell_type": "markdown",
   "metadata": {},
   "source": [
    "However, if your use the `as_tensor` function, the values of y is not copied to z and they are using the ame memory address. So, any change in z will be reflected in y and vice-versa."
   ]
  },
  {
   "cell_type": "code",
   "execution_count": 15,
   "metadata": {},
   "outputs": [
    {
     "data": {
      "text/plain": [
       "tensor([100.7500,   1.0000,   2.0000,   3.0000,   4.0000])"
      ]
     },
     "execution_count": 15,
     "metadata": {},
     "output_type": "execute_result"
    }
   ],
   "source": [
    "z = torch.as_tensor(y)\n",
    "z"
   ]
  },
  {
   "cell_type": "markdown",
   "metadata": {},
   "source": [
    "As evident below, both `y` and `z` have different memory addresses."
   ]
  },
  {
   "cell_type": "code",
   "execution_count": 16,
   "metadata": {},
   "outputs": [
    {
     "name": "stdout",
     "output_type": "stream",
     "text": [
      "tensor([125.9000,   1.0000,   2.0000,   3.0000,   4.0000])\n",
      "[125.9   1.    2.    3.    4. ]\n"
     ]
    }
   ],
   "source": [
    "z[0] = 125.90\n",
    "print(z)\n",
    "print(y)"
   ]
  },
  {
   "cell_type": "markdown",
   "metadata": {},
   "source": [
    "We can also convert a `tensor` back to a `ndarray` using the `numpy()` function."
   ]
  },
  {
   "cell_type": "code",
   "execution_count": 17,
   "metadata": {},
   "outputs": [
    {
     "data": {
      "text/plain": [
       "array([125.9,   1. ,   2. ,   3. ,   4. ], dtype=float32)"
      ]
     },
     "execution_count": 17,
     "metadata": {},
     "output_type": "execute_result"
    }
   ],
   "source": [
    "z.numpy()"
   ]
  },
  {
   "cell_type": "markdown",
   "metadata": {},
   "source": [
    "We can also create a `tensor` from a `Pandas` `Series` data structure. We can simply convert a `Series` into a `ndarray` using the `values` property. Then we can simply use the `as_tensor` or `from_numpy` function to create a new `tensor`."
   ]
  },
  {
   "cell_type": "code",
   "execution_count": 18,
   "metadata": {},
   "outputs": [
    {
     "data": {
      "text/plain": [
       "January     1\n",
       "February    2\n",
       "March       3\n",
       "April       4\n",
       "May         5\n",
       "June        6\n",
       "dtype: int64"
      ]
     },
     "execution_count": 18,
     "metadata": {},
     "output_type": "execute_result"
    }
   ],
   "source": [
    "series = pd.Series([1, 2, 3, 4, 5, 6],\n",
    "                    index=['January', 'February', 'March', 'April', 'May', 'June'])\n",
    "series"
   ]
  },
  {
   "cell_type": "code",
   "execution_count": 19,
   "metadata": {},
   "outputs": [
    {
     "data": {
      "text/plain": [
       "tensor([1, 2, 3, 4, 5, 6])"
      ]
     },
     "execution_count": 19,
     "metadata": {},
     "output_type": "execute_result"
    }
   ],
   "source": [
    "torch.as_tensor(series.values)"
   ]
  },
  {
   "cell_type": "markdown",
   "metadata": {},
   "source": [
    "### Shorthands for Tensor Initialization"
   ]
  },
  {
   "cell_type": "markdown",
   "metadata": {},
   "source": [
    "There are several useful shorthands for quickly creating tensors of arbitrary shapes."
   ]
  },
  {
   "cell_type": "code",
   "execution_count": 25,
   "metadata": {},
   "outputs": [],
   "source": [
    "x = torch.empty((3, 3))\n",
    "y = torch.zeros((2, 2))\n",
    "z = torch.ones((3, 3))\n",
    "p = torch.rand((3, 7))\n",
    "q = torch.eye(5, 5)"
   ]
  },
  {
   "cell_type": "code",
   "execution_count": 26,
   "metadata": {},
   "outputs": [
    {
     "name": "stdout",
     "output_type": "stream",
     "text": [
      "tensor([[0.2306, 0.2598, 0.9197, 0.4072, 0.5646, 0.3599, 0.3451],\n",
      "        [0.0035, 0.2995, 0.7199, 0.0114, 0.1493, 0.0306, 0.5116],\n",
      "        [0.9740, 0.6109, 0.1817, 0.5202, 0.4960, 0.7194, 0.2120]])\n"
     ]
    }
   ],
   "source": [
    "print(p)"
   ]
  },
  {
   "attachments": {},
   "cell_type": "markdown",
   "metadata": {},
   "source": [
    "A useful function for plotting mathematical functions is <code>torch.linspace()</code> and `torch.arange()`. <code>torch.linspace()</code> returns evenly spaced numbers over a specified interval. You specify the starting point of the sequence and the ending point of the sequence. The parameter <code>steps</code> indicates the number of samples to generate."
   ]
  },
  {
   "cell_type": "code",
   "execution_count": 33,
   "metadata": {},
   "outputs": [],
   "source": [
    "x = torch.arange(start=10, end=20, step=5)\n",
    "y = torch.linspace(start=10, end=20, steps=5)"
   ]
  },
  {
   "cell_type": "code",
   "execution_count": 35,
   "metadata": {},
   "outputs": [
    {
     "name": "stdout",
     "output_type": "stream",
     "text": [
      "tensor([10, 15])\n",
      "tensor([10.0000, 12.5000, 15.0000, 17.5000, 20.0000])\n"
     ]
    }
   ],
   "source": [
    "print(x)\n",
    "print(y)"
   ]
  },
  {
   "cell_type": "markdown",
   "metadata": {},
   "source": [
    "Finally, we can use `tolist` function to convert a `tensor` directly to a `Python` list."
   ]
  },
  {
   "cell_type": "code",
   "execution_count": 36,
   "metadata": {},
   "outputs": [
    {
     "data": {
      "text/plain": [
       "[10.0, 12.5, 15.0, 17.5, 20.0]"
      ]
     },
     "execution_count": 36,
     "metadata": {},
     "output_type": "execute_result"
    }
   ],
   "source": [
    "y.tolist()"
   ]
  },
  {
   "cell_type": "markdown",
   "metadata": {},
   "source": [
    "# Type Casting\n",
    "Sometimes you might need to change the data type of a tensor that you have already created. There are two different ways to that in PyTorch."
   ]
  },
  {
   "cell_type": "code",
   "execution_count": 40,
   "metadata": {},
   "outputs": [
    {
     "name": "stdout",
     "output_type": "stream",
     "text": [
      "tensor([0, 1, 2, 3])\n",
      "torch.int64\n"
     ]
    }
   ],
   "source": [
    "x = torch.arange(4)\n",
    "print(x)\n",
    "print(x.dtype)"
   ]
  },
  {
   "cell_type": "code",
   "execution_count": 42,
   "metadata": {},
   "outputs": [
    {
     "name": "stdout",
     "output_type": "stream",
     "text": [
      "tensor([False,  True,  True,  True])\n",
      "tensor([0, 1, 2, 3], dtype=torch.int16)\n",
      "tensor([0, 1, 2, 3])\n",
      "tensor([0., 1., 2., 3.], dtype=torch.float16)\n",
      "tensor([0., 1., 2., 3.])\n",
      "tensor([0., 1., 2., 3.], dtype=torch.float64)\n"
     ]
    }
   ],
   "source": [
    "# convert to boolean\n",
    "print(x.bool())\n",
    "# convert to int16\n",
    "print(x.short())\n",
    "# convert to int64\n",
    "print(x.long())\n",
    "# convert to float16\n",
    "print(x.half())\n",
    "# convert to float32\n",
    "print(x.float())\n",
    "# convert to float64\n",
    "print(x.double())"
   ]
  },
  {
   "cell_type": "markdown",
   "metadata": {},
   "source": [
    "It is also possible to typecast using the `to` function, and giving the intended `torch` type as a parameter."
   ]
  },
  {
   "cell_type": "code",
   "execution_count": 44,
   "metadata": {},
   "outputs": [
    {
     "name": "stdout",
     "output_type": "stream",
     "text": [
      "tensor([False,  True,  True,  True])\n",
      "tensor([0, 1, 2, 3], dtype=torch.int8)\n",
      "tensor([0, 1, 2, 3])\n",
      "tensor([0., 1., 2., 3.], dtype=torch.float16)\n",
      "tensor([0., 1., 2., 3.])\n",
      "tensor([0., 1., 2., 3.], dtype=torch.float64)\n"
     ]
    }
   ],
   "source": [
    "# convert to boolean\n",
    "print(x.to(torch.bool))\n",
    "# convert to int16\n",
    "print(x.to(torch.int8))\n",
    "# convert to int64\n",
    "print(x.to(torch.int64))\n",
    "# convert to float16\n",
    "print(x.to(torch.float16))\n",
    "# convert to float32\n",
    "print(x.to(torch.float32))\n",
    "# convert to float64\n",
    "print(x.to(torch.float64))"
   ]
  },
  {
   "cell_type": "markdown",
   "metadata": {},
   "source": [
    "# Math Operations"
   ]
  },
  {
   "cell_type": "code",
   "execution_count": 45,
   "metadata": {},
   "outputs": [],
   "source": [
    "x = torch.tensor([1, 2, 3])\n",
    "y = torch.tensor([4, 5, 6])"
   ]
  },
  {
   "cell_type": "code",
   "execution_count": 46,
   "metadata": {},
   "outputs": [
    {
     "name": "stdout",
     "output_type": "stream",
     "text": [
      "tensor([5, 7, 9])\n",
      "tensor([-3, -3, -3])\n",
      "tensor([0.2500, 0.4000, 0.5000])\n"
     ]
    }
   ],
   "source": [
    "# addition\n",
    "z = x + y\n",
    "print(z)\n",
    "# subtraction\n",
    "z = x - y\n",
    "print(z)\n",
    "# element-wise division\n",
    "z = x / y\n",
    "print(z)"
   ]
  },
  {
   "cell_type": "code",
   "execution_count": 49,
   "metadata": {},
   "outputs": [
    {
     "name": "stdout",
     "output_type": "stream",
     "text": [
      "tensor([ 11, 117, 573])\n",
      "tensor([  7, 112, 567])\n",
      "tensor([    49,  12544, 321489])\n",
      "tensor([    343,   87808, 2250423])\n"
     ]
    }
   ],
   "source": [
    "# inplace operations, more efficient\n",
    "x.add_(y)\n",
    "print(x)\n",
    "x.subtract_(y)\n",
    "print(x)\n",
    "x.pow_(2)\n",
    "print(x)\n",
    "x.multiply_(7)\n",
    "print(x)"
   ]
  },
  {
   "cell_type": "code",
   "execution_count": 58,
   "metadata": {},
   "outputs": [
    {
     "data": {
      "text/plain": [
       "tensor([[0.1763, 0.0400, 0.0360, 0.1831, 0.0518],\n",
       "        [0.8177, 0.1403, 0.1278, 0.8529, 0.2958],\n",
       "        [0.3159, 0.0863, 0.0770, 0.3271, 0.0751],\n",
       "        [0.7094, 0.1731, 0.1551, 0.7361, 0.1939]])"
      ]
     },
     "execution_count": 58,
     "metadata": {},
     "output_type": "execute_result"
    }
   ],
   "source": [
    "# matrix multiplication\n",
    "x = torch.rand((4, 2))\n",
    "y = torch.rand((2, 5))\n",
    "x.mm(y)"
   ]
  },
  {
   "cell_type": "code",
   "execution_count": 60,
   "metadata": {},
   "outputs": [
    {
     "data": {
      "text/plain": [
       "torch.Size([64, 10, 30])"
      ]
     },
     "execution_count": 60,
     "metadata": {},
     "output_type": "execute_result"
    }
   ],
   "source": [
    "# batch matrix multiplication\n",
    "batch = 64\n",
    "x = torch.rand((batch, 10, 20))\n",
    "y = torch.rand((batch, 20, 30))\n",
    "x.bmm(y).shape"
   ]
  },
  {
   "cell_type": "code",
   "execution_count": 61,
   "metadata": {},
   "outputs": [
    {
     "data": {
      "text/plain": [
       "tensor([ 0,  6, 14, 24, 36])"
      ]
     },
     "execution_count": 61,
     "metadata": {},
     "output_type": "execute_result"
    }
   ],
   "source": [
    "# element-wise multiplication\n",
    "x = torch.arange(5)\n",
    "y = torch.arange(5, 10)\n",
    "x * y"
   ]
  },
  {
   "cell_type": "code",
   "execution_count": 62,
   "metadata": {},
   "outputs": [
    {
     "data": {
      "text/plain": [
       "tensor(80)"
      ]
     },
     "execution_count": 62,
     "metadata": {},
     "output_type": "execute_result"
    }
   ],
   "source": [
    "# dot product\n",
    "x.dot(y)"
   ]
  },
  {
   "cell_type": "markdown",
   "metadata": {},
   "source": [
    "### Logical Operataions"
   ]
  },
  {
   "cell_type": "code",
   "execution_count": 63,
   "metadata": {},
   "outputs": [
    {
     "name": "stdout",
     "output_type": "stream",
     "text": [
      "tensor([0.0243, 0.0772, 0.1427, 0.2622, 0.3704])\n",
      "tensor([0.3154, 0.2643, 0.9942, 0.9226, 0.7457])\n"
     ]
    }
   ],
   "source": [
    "x = torch.rand((5))\n",
    "y = torch.rand((5))\n",
    "print(x)\n",
    "print(y)"
   ]
  },
  {
   "cell_type": "code",
   "execution_count": 65,
   "metadata": {},
   "outputs": [
    {
     "name": "stdout",
     "output_type": "stream",
     "text": [
      "tensor([True, True, True, True, True])\n",
      "tensor([False, False, False, False, False])\n",
      "tensor([False, False, False, False, False])\n",
      "tensor([True, True, True, True, True])\n",
      "tensor([False, False, False, False, False])\n",
      "tensor([True, True, True, True, True])\n"
     ]
    }
   ],
   "source": [
    "print(x < y)\n",
    "print(x > y)\n",
    "print(x == y)\n",
    "print(x != y)\n",
    "print(x >= y)\n",
    "print(x <= y)"
   ]
  },
  {
   "cell_type": "code",
   "execution_count": 67,
   "metadata": {},
   "outputs": [
    {
     "data": {
      "text/plain": [
       "tensor(5)"
      ]
     },
     "execution_count": 67,
     "metadata": {},
     "output_type": "execute_result"
    }
   ],
   "source": [
    "torch.sum((x != y))"
   ]
  },
  {
   "attachments": {},
   "cell_type": "markdown",
   "metadata": {},
   "source": [
    "# Broadcasting\n",
    "PyTorch, when it tries to perform a simple operation between two tensors of different ranks, will use broadcasting: it will automatically expand the tensor with the smaller rank to have the same size as the one with the larger rank. For example, you can not add a $[3\\times 3]$ matrix with a $[3\\times 4]$ matrix beacuse the later has an extra column and there is nothing left to add with it after you have added the first $3$ with each other. However, if you add a $[3\\times 3]$ matrix with a $[1\\times 3]$ vector, you can add the vector with each row of the matrix. Here, the $[1\\times 3]$ vector, which has smaller rank, is expanded to $[3\\times 3]$ matrix by repeating the $[1\\times 3]$ vector $3$ times. Consider the following image.\n",
    "\n",
    "![Broadcasting](./images/broadcasting.png \"Broadcasting\")\n",
    "\n",
    "<small>This image was taken from **Python Data Science Handbook: Essential Tools for Working with Data 1st Edition by Jake VanderPlas**.</small>\n",
    "\n",
    "### Boradcasting with a Scalar"
   ]
  },
  {
   "cell_type": "code",
   "execution_count": 68,
   "metadata": {},
   "outputs": [
    {
     "name": "stdout",
     "output_type": "stream",
     "text": [
      "tensor([[1, 2, 3],\n",
      "        [3, 4, 5],\n",
      "        [5, 6, 7]])\n"
     ]
    }
   ],
   "source": [
    "t = torch.tensor([\n",
    "    [1, 2, 3],\n",
    "    [3, 4, 5],\n",
    "    [5, 6, 7]\n",
    "])\n",
    "print(t)"
   ]
  },
  {
   "attachments": {},
   "cell_type": "markdown",
   "metadata": {},
   "source": [
    "In this example, the shape of $t$ is $[3\\times 3]$. Now, if we substract $5$, which is a scalar, from $t$, PyTorch will consider a matrix of $5$ of the same shape $[3\\times 3]$ as $t$ like the following\n",
    "$$\n",
    "[\n",
    "    [5, 5, 5],\\\\\n",
    "    [5, 5, 5],\\\\\n",
    "    [5, 5, 5]\n",
    "]\n",
    "$$\n",
    "and substract it from $t$ using the normal elementwise substraction. **However, PyTorch will never actually create this matrix so that it can save memory.** As you can see below, $5$ is substracted from each element of $t$."
   ]
  },
  {
   "cell_type": "code",
   "execution_count": null,
   "metadata": {},
   "outputs": [],
   "source": [
    "t - 5"
   ]
  },
  {
   "attachments": {},
   "cell_type": "markdown",
   "metadata": {},
   "source": [
    "### Broadcasting with a Vector"
   ]
  },
  {
   "cell_type": "code",
   "execution_count": 69,
   "metadata": {},
   "outputs": [
    {
     "name": "stdout",
     "output_type": "stream",
     "text": [
      "Tensor:  tensor([[1, 2, 3],\n",
      "        [3, 4, 5],\n",
      "        [5, 6, 7]])\n",
      "Number of dimensions:  2\n",
      "Length of each dimension:  torch.Size([3, 3])\n"
     ]
    }
   ],
   "source": [
    "print('Tensor: ', t)\n",
    "print('Number of dimensions: ', t.ndim)\n",
    "print('Length of each dimension: ', t.shape)"
   ]
  },
  {
   "cell_type": "code",
   "execution_count": 72,
   "metadata": {},
   "outputs": [
    {
     "name": "stdout",
     "output_type": "stream",
     "text": [
      "Vector:  tensor([1, 2, 3])\n",
      "Number of dimensions:  1\n",
      "Length of each dimension:  torch.Size([3])\n"
     ]
    }
   ],
   "source": [
    "v = torch.tensor([1, 2, 3])\n",
    "print('Vector: ', v)\n",
    "print('Number of dimensions: ', v.ndim)\n",
    "print('Length of each dimension: ', v.shape)"
   ]
  },
  {
   "attachments": {},
   "cell_type": "markdown",
   "metadata": {},
   "source": [
    "If we add the vector $v$ to the matrix $t$, the vector will be expanded to match the dimension of the matrix $t$. The vector will act like a matrix of the same shape of $t$ like the following."
   ]
  },
  {
   "cell_type": "code",
   "execution_count": 73,
   "metadata": {},
   "outputs": [
    {
     "data": {
      "text/plain": [
       "tensor([[1, 2, 3],\n",
       "        [1, 2, 3],\n",
       "        [1, 2, 3]])"
      ]
     },
     "execution_count": 73,
     "metadata": {},
     "output_type": "execute_result"
    }
   ],
   "source": [
    "v.expand_as(t)"
   ]
  },
  {
   "attachments": {},
   "cell_type": "markdown",
   "metadata": {},
   "source": [
    "Now we can add it with matrix $t$."
   ]
  },
  {
   "cell_type": "code",
   "execution_count": 74,
   "metadata": {},
   "outputs": [
    {
     "data": {
      "text/plain": [
       "tensor([[ 2,  4,  6],\n",
       "        [ 4,  6,  8],\n",
       "        [ 6,  8, 10]])"
      ]
     },
     "execution_count": 74,
     "metadata": {},
     "output_type": "execute_result"
    }
   ],
   "source": [
    "t + v.expand_as(t)"
   ]
  },
  {
   "attachments": {},
   "cell_type": "markdown",
   "metadata": {},
   "source": [
    "Boradcasting does this expansion automatically whenever you are performing any mathematical operation between tensors that have different ranks."
   ]
  },
  {
   "cell_type": "code",
   "execution_count": 75,
   "metadata": {},
   "outputs": [
    {
     "data": {
      "text/plain": [
       "tensor([[ 2,  4,  6],\n",
       "        [ 4,  6,  8],\n",
       "        [ 6,  8, 10]])"
      ]
     },
     "execution_count": 75,
     "metadata": {},
     "output_type": "execute_result"
    }
   ],
   "source": [
    "t + v"
   ]
  },
  {
   "attachments": {},
   "cell_type": "markdown",
   "metadata": {},
   "source": [
    "### General Rule\n",
    "When operating on two tensors, PyTorch compares their shapes elementwise. It starts with the trailing dimensions and works its way backward, adding $1$ when it meets empty dimensions. Two dimensions are compatible when one of the following is true:\n",
    "- They are equal.\n",
    "- One of them is $1$, in which case that dimension is broadcast to make it the same as the other."
   ]
  },
  {
   "cell_type": "code",
   "execution_count": 86,
   "metadata": {},
   "outputs": [
    {
     "name": "stdout",
     "output_type": "stream",
     "text": [
      "Dimension of x:  4\n",
      "Length of each dimension of x:  torch.Size([64, 3, 256, 256])\n",
      "\n",
      "Dimension of y:  3\n",
      "Length of each dimension of y:  torch.Size([3, 256, 256])\n"
     ]
    }
   ],
   "source": [
    "x = torch.rand((64, 3, 256, 256))\n",
    "y = torch.rand((3, 256, 256))\n",
    "\n",
    "print('Dimension of x: ', x.ndim)\n",
    "print('Length of each dimension of x: ', x.shape)\n",
    "print()\n",
    "print('Dimension of y: ', y.ndim)\n",
    "print('Length of each dimension of y: ', y.shape)"
   ]
  },
  {
   "attachments": {},
   "cell_type": "markdown",
   "metadata": {},
   "source": [
    "Now, start comparing the lengths of each dimension from the end. In the last dimension, both $x$ and $y$ have $256$. The same is true for the $2^{nd}$ from the last dimension. After that, $x$ has extra $2$ dimensions which $y$ does not have, but we can simply add two extra dimensions in $y$ using the `unsqueeze` function."
   ]
  },
  {
   "cell_type": "code",
   "execution_count": 88,
   "metadata": {},
   "outputs": [
    {
     "name": "stdout",
     "output_type": "stream",
     "text": [
      "torch.Size([1, 1, 3, 256, 256])\n",
      "torch.Size([1, 1, 1, 3, 256, 256])\n"
     ]
    }
   ],
   "source": [
    "y = y.unsqueeze(0)\n",
    "print(y.shape)\n",
    "y = y.unsqueeze(0)\n",
    "print(y.shape)"
   ]
  },
  {
   "attachments": {},
   "cell_type": "markdown",
   "metadata": {},
   "source": [
    "Now, the lengths of each dimension in both $x$ and $y$ are either same or one of them is $1$. So, our rule holds. We can perform any mathematical operation between them as we like. **However, PyTorch does these `unsqueeze` operations automatically.** "
   ]
  },
  {
   "cell_type": "markdown",
   "metadata": {},
   "source": [
    "# Useful Functions\n",
    "**It is often better to avoid loops and use these functions to speed up performance.\n",
    "Raw Python loops are too slow. To levelrage the underlying `C` codes of `PyTorch`,\n",
    "avoid them.**"
   ]
  },
  {
   "cell_type": "code",
   "execution_count": 89,
   "metadata": {},
   "outputs": [
    {
     "data": {
      "text/plain": [
       "tensor([[ 1,  2,  3,  4,  5],\n",
       "        [ 6,  7,  8,  9, 10]])"
      ]
     },
     "execution_count": 89,
     "metadata": {},
     "output_type": "execute_result"
    }
   ],
   "source": [
    "x = torch.tensor([\n",
    "    [1, 2, 3, 4, 5],\n",
    "    [6, 7, 8, 9, 10]\n",
    "])\n",
    "x"
   ]
  },
  {
   "cell_type": "code",
   "execution_count": 90,
   "metadata": {},
   "outputs": [
    {
     "name": "stdout",
     "output_type": "stream",
     "text": [
      "tensor([ 7,  9, 11, 13, 15])\n",
      "tensor([15, 40])\n"
     ]
    }
   ],
   "source": [
    "# row-wise sum\n",
    "print(x.sum(dim=0))\n",
    "# column-wise sum\n",
    "print(x.sum(dim=1))"
   ]
  },
  {
   "cell_type": "code",
   "execution_count": 91,
   "metadata": {},
   "outputs": [
    {
     "name": "stdout",
     "output_type": "stream",
     "text": [
      "torch.return_types.min(\n",
      "values=tensor([1, 2, 3, 4, 5]),\n",
      "indices=tensor([0, 0, 0, 0, 0]))\n",
      "\n",
      "torch.return_types.min(\n",
      "values=tensor([1, 6]),\n",
      "indices=tensor([0, 0]))\n"
     ]
    }
   ],
   "source": [
    "# returns the minimum element of each column\n",
    "print(x.min(dim=0))\n",
    "print()\n",
    "# returns the minimum element of each row\n",
    "print(x.min(dim=1))"
   ]
  },
  {
   "cell_type": "code",
   "execution_count": 92,
   "metadata": {},
   "outputs": [
    {
     "name": "stdout",
     "output_type": "stream",
     "text": [
      "torch.return_types.max(\n",
      "values=tensor([ 5, 10]),\n",
      "indices=tensor([4, 4]))\n",
      "\n",
      "torch.return_types.max(\n",
      "values=tensor([ 6,  7,  8,  9, 10]),\n",
      "indices=tensor([1, 1, 1, 1, 1]))\n"
     ]
    }
   ],
   "source": [
    "# returns the maximum element of each row\n",
    "print(x.max(dim=1))\n",
    "print()\n",
    "# returns the maximum element of each column\n",
    "print(x.max(dim=0))"
   ]
  },
  {
   "cell_type": "code",
   "execution_count": 93,
   "metadata": {},
   "outputs": [
    {
     "name": "stdout",
     "output_type": "stream",
     "text": [
      "tensor([1, 1, 1, 1, 1])\n",
      "tensor([4, 4])\n"
     ]
    }
   ],
   "source": [
    "# returns the position of the maximum element row-wise\n",
    "print(x.argmax(dim=0))\n",
    "# returns the position of the maximum element column-wise\n",
    "print(x.argmax(dim=1))"
   ]
  },
  {
   "cell_type": "code",
   "execution_count": 94,
   "metadata": {},
   "outputs": [
    {
     "name": "stdout",
     "output_type": "stream",
     "text": [
      "tensor([0, 0, 0, 0, 0])\n",
      "tensor([0, 0])\n"
     ]
    }
   ],
   "source": [
    "# returns the position of the minimum element row-wise\n",
    "print(x.argmin(dim=0))\n",
    "# returns the position of the minimum element column-wise\n",
    "print(x.argmin(dim=1))"
   ]
  },
  {
   "cell_type": "code",
   "execution_count": 95,
   "metadata": {},
   "outputs": [
    {
     "name": "stdout",
     "output_type": "stream",
     "text": [
      "tensor([3.5000, 4.5000, 5.5000, 6.5000, 7.5000])\n"
     ]
    }
   ],
   "source": [
    "# returns means of each column\n",
    "print(torch.mean(x.float(), dim=0))"
   ]
  },
  {
   "cell_type": "code",
   "execution_count": 96,
   "metadata": {},
   "outputs": [
    {
     "name": "stdout",
     "output_type": "stream",
     "text": [
      "tensor([0.5936, 0.6652, 0.7727, 0.9042, 0.6373, 0.0824, 0.0247, 0.6230, 0.8667,\n",
      "        0.1418])\n",
      "tensor([0.0247, 0.0824, 0.1418, 0.5936, 0.6230, 0.6373, 0.6652, 0.7727, 0.8667,\n",
      "        0.9042])\n",
      "tensor([6, 5, 9, 0, 7, 4, 1, 2, 8, 3])\n"
     ]
    }
   ],
   "source": [
    "# sorts tensor\n",
    "x = torch.rand(10)\n",
    "print(x)\n",
    "x, indices = x.sort(descending=False)\n",
    "print(x)\n",
    "print(indices)"
   ]
  },
  {
   "cell_type": "code",
   "execution_count": 97,
   "metadata": {},
   "outputs": [
    {
     "name": "stdout",
     "output_type": "stream",
     "text": [
      "tensor([ 0,  1,  4,  5,  6,  7, 10, 11])\n",
      "tensor([ 2,  2,  4,  5,  6,  7, 10, 10])\n"
     ]
    }
   ],
   "source": [
    "# clamp tensor between values\n",
    "x = torch.tensor([0, 1, 4, 5, 6, 7, 10, 11])\n",
    "print(x)\n",
    "# any element less than 2 is set to 2, and any element more than 10 is set to 10\n",
    "x = x.clamp(min=2, max=10)\n",
    "print(x)"
   ]
  },
  {
   "cell_type": "code",
   "execution_count": 98,
   "metadata": {},
   "outputs": [
    {
     "name": "stdout",
     "output_type": "stream",
     "text": [
      "tensor(True)\n",
      "tensor(False)\n"
     ]
    }
   ],
   "source": [
    "x = torch.tensor([0, 0, 1, 1, 1], dtype=torch.bool)\n",
    "# checks if any of the values is true\n",
    "print(x.any())\n",
    "# checks if all the values are true\n",
    "print(x.all())"
   ]
  },
  {
   "cell_type": "markdown",
   "metadata": {},
   "source": [
    "# Indexing\n",
    "The contents of a tensor can be accessed and modified using Python’s indexing and slicing notation."
   ]
  },
  {
   "cell_type": "code",
   "execution_count": 100,
   "metadata": {},
   "outputs": [
    {
     "name": "stdout",
     "output_type": "stream",
     "text": [
      "torch.Size([64, 3, 256, 256])\n"
     ]
    }
   ],
   "source": [
    "batch_size = 64\n",
    "feature_size = (3, 256, 256)\n",
    "\n",
    "img = torch.rand((batch_size, *feature_size))\n",
    "print(img.shape)"
   ]
  },
  {
   "cell_type": "code",
   "execution_count": 104,
   "metadata": {},
   "outputs": [
    {
     "name": "stdout",
     "output_type": "stream",
     "text": [
      "torch.Size([3, 256, 256])\n",
      "torch.Size([256, 256])\n",
      "torch.Size([256])\n",
      "torch.Size([256])\n"
     ]
    }
   ],
   "source": [
    "# selecting first image\n",
    "print(img[0].shape)\n",
    "# selecting first color channel of first image\n",
    "print(img[0, 0].shape)\n",
    "# selecting first row of first color channel of first image\n",
    "print(img[0, 0, 0].shape)\n",
    "# slecting first column of first color channel of first image\n",
    "print(img[0, 0, :, 0].shape)"
   ]
  },
  {
   "cell_type": "markdown",
   "metadata": {},
   "source": [
    "The number on the left side of the colon represents the index of the first value. The number on the right side of the colon is always 1 larger than the index of the last value. For example, <code>tensor_sample\\[1:4]</code> means you get values from the index 1 to index 3 <i>(4-1)</i>."
   ]
  },
  {
   "cell_type": "code",
   "execution_count": 106,
   "metadata": {},
   "outputs": [
    {
     "name": "stdout",
     "output_type": "stream",
     "text": [
      "torch.Size([64, 256])\n",
      "torch.Size([10, 256])\n"
     ]
    }
   ],
   "source": [
    "# selecting 3rd column of 2nd color channel of all images\n",
    "print(img[:, 1, :, 2].shape)\n",
    "# selecting 3rd column of 2nd color channel of first 10 images\n",
    "print(img[:10, 1, :, 2].shape)"
   ]
  },
  {
   "cell_type": "markdown",
   "metadata": {},
   "source": [
    "### Fancy Indexing"
   ]
  },
  {
   "cell_type": "markdown",
   "metadata": {},
   "source": [
    "We can leverage fancy indexing and use boolean conditions to select specific values too."
   ]
  },
  {
   "cell_type": "code",
   "execution_count": 109,
   "metadata": {},
   "outputs": [
    {
     "name": "stdout",
     "output_type": "stream",
     "text": [
      "tensor([ True,  True,  True, False, False])\n",
      "tensor([1, 2, 3])\n",
      "tensor([ True, False, False, False,  True])\n",
      "tensor([1, 5])\n",
      "tensor([ True, False, False, False, False])\n",
      "tensor([1])\n"
     ]
    }
   ],
   "source": [
    "x = torch.tensor([1, 2, 3, 4, 5])\n",
    "\n",
    "print(x < 4)\n",
    "print(x[x < 4])\n",
    "\n",
    "print((x < 2) | (x > 4))\n",
    "print(x[(x < 2) | (x > 4)])\n",
    "\n",
    "print((x < 3) & (x < 2))\n",
    "print(x[(x < 3) & (x < 2)])"
   ]
  },
  {
   "cell_type": "markdown",
   "metadata": {},
   "source": [
    "The `where` function returns elements as it is if condition is met, otherwise changes value according to given formulae."
   ]
  },
  {
   "cell_type": "code",
   "execution_count": 110,
   "metadata": {},
   "outputs": [
    {
     "data": {
      "text/plain": [
       "tensor([  1, 102, 103, 104, 105])"
      ]
     },
     "execution_count": 110,
     "metadata": {},
     "output_type": "execute_result"
    }
   ],
   "source": [
    "x.where(x < 2, x + 100)"
   ]
  },
  {
   "cell_type": "markdown",
   "metadata": {},
   "source": [
    "The `unique` function returns the unique elements in the list."
   ]
  },
  {
   "cell_type": "code",
   "execution_count": 111,
   "metadata": {},
   "outputs": [
    {
     "data": {
      "text/plain": [
       "tensor([1, 2, 3, 4, 5])"
      ]
     },
     "execution_count": 111,
     "metadata": {},
     "output_type": "execute_result"
    }
   ],
   "source": [
    "x.unique()"
   ]
  },
  {
   "cell_type": "markdown",
   "metadata": {},
   "source": [
    "Use `torch.Tensor.item()` to get a Python number from a tensor containing a single value."
   ]
  },
  {
   "cell_type": "code",
   "execution_count": 114,
   "metadata": {},
   "outputs": [
    {
     "data": {
      "text/plain": [
       "1"
      ]
     },
     "execution_count": 114,
     "metadata": {},
     "output_type": "execute_result"
    }
   ],
   "source": [
    "# Returns a single item\n",
    "x[0].item()"
   ]
  },
  {
   "cell_type": "markdown",
   "metadata": {},
   "source": [
    "If we can select a specific value or a range of values from a `tensor`, we can also assign new values to those positions. For example, below we have selected the first 2 items of `x` and assigned new values to them."
   ]
  },
  {
   "cell_type": "code",
   "execution_count": 115,
   "metadata": {},
   "outputs": [
    {
     "name": "stdout",
     "output_type": "stream",
     "text": [
      "tensor([1, 2, 3, 4, 5])\n"
     ]
    }
   ],
   "source": [
    "print(x)"
   ]
  },
  {
   "cell_type": "code",
   "execution_count": 116,
   "metadata": {},
   "outputs": [
    {
     "data": {
      "text/plain": [
       "tensor([100, 101,   3,   4,   5])"
      ]
     },
     "execution_count": 116,
     "metadata": {},
     "output_type": "execute_result"
    }
   ],
   "source": [
    "x[0:2] = torch.tensor([100, 101])\n",
    "x"
   ]
  },
  {
   "cell_type": "markdown",
   "metadata": {},
   "source": [
    "# Reshaping & Resizing\n",
    "For some operations, the input tensors need to have a certain number of dimensions (also called rank) and a certain number of elements (shape). So, we might have to change the shape of a tensor, add a new dimension, or make a dimension smaller that isn't needed."
   ]
  },
  {
   "cell_type": "code",
   "execution_count": 117,
   "metadata": {},
   "outputs": [
    {
     "data": {
      "text/plain": [
       "tensor([ 0,  1,  2,  3,  4,  5,  6,  7,  8,  9, 10, 11])"
      ]
     },
     "execution_count": 117,
     "metadata": {},
     "output_type": "execute_result"
    }
   ],
   "source": [
    "x = torch.arange(12)\n",
    "x"
   ]
  },
  {
   "cell_type": "code",
   "execution_count": 118,
   "metadata": {},
   "outputs": [
    {
     "name": "stdout",
     "output_type": "stream",
     "text": [
      "torch.Size([12])\n",
      "1\n"
     ]
    }
   ],
   "source": [
    "print(x.shape)\n",
    "print(x.ndim)"
   ]
  },
  {
   "cell_type": "markdown",
   "metadata": {},
   "source": [
    "The `view` function can be used to reshape a vector. For example, before `x` was a 1 dimensional vector. Later we reshaped it into a 2 dimensional matrix with 3 rows and 4 columns. The number of elements in a tensor must remain constant after applying view."
   ]
  },
  {
   "cell_type": "code",
   "execution_count": 119,
   "metadata": {},
   "outputs": [
    {
     "data": {
      "text/plain": [
       "tensor([[ 0,  1,  2,  3],\n",
       "        [ 4,  5,  6,  7],\n",
       "        [ 8,  9, 10, 11]])"
      ]
     },
     "execution_count": 119,
     "metadata": {},
     "output_type": "execute_result"
    }
   ],
   "source": [
    "x_reshaped = x.view(3, 4)\n",
    "x_reshaped"
   ]
  },
  {
   "cell_type": "code",
   "execution_count": 120,
   "metadata": {},
   "outputs": [
    {
     "name": "stdout",
     "output_type": "stream",
     "text": [
      "torch.Size([3, 4])\n",
      "2\n"
     ]
    }
   ],
   "source": [
    "print(x_reshaped.shape)\n",
    "print(x_reshaped.ndim)"
   ]
  },
  {
   "cell_type": "markdown",
   "metadata": {},
   "source": [
    " However, `view` requires contiguous memory, in contrast to `reshape`. Therefore, `reshape` is safe to use in expanse of performance."
   ]
  },
  {
   "cell_type": "code",
   "execution_count": 123,
   "metadata": {},
   "outputs": [
    {
     "name": "stdout",
     "output_type": "stream",
     "text": [
      "tensor([[ 0,  1,  2,  3],\n",
      "        [ 4,  5,  6,  7],\n",
      "        [ 8,  9, 10, 11]])\n"
     ]
    }
   ],
   "source": [
    "print(x.reshape(3, 4))"
   ]
  },
  {
   "cell_type": "markdown",
   "metadata": {},
   "source": [
    "If you have a tensor with dynamic size, you can use `-1` to represent any size. But you can set only one dimension as `-1`. It means that `PyTorch` will calculate the suitable number for that dimension by itself."
   ]
  },
  {
   "cell_type": "code",
   "execution_count": 125,
   "metadata": {},
   "outputs": [
    {
     "data": {
      "text/plain": [
       "tensor([[ 0,  1,  2,  3],\n",
       "        [ 4,  5,  6,  7],\n",
       "        [ 8,  9, 10, 11]])"
      ]
     },
     "execution_count": 125,
     "metadata": {},
     "output_type": "execute_result"
    }
   ],
   "source": [
    "x.view(3, -1)"
   ]
  },
  {
   "cell_type": "markdown",
   "metadata": {},
   "source": [
    "We can concatenate two tensors both row-wise and column-wise."
   ]
  },
  {
   "cell_type": "code",
   "execution_count": 126,
   "metadata": {},
   "outputs": [],
   "source": [
    "# concatenates two tensors\n",
    "x = torch.rand((3, 3))\n",
    "y = torch.rand((3, 3))"
   ]
  },
  {
   "cell_type": "code",
   "execution_count": 127,
   "metadata": {},
   "outputs": [
    {
     "name": "stdout",
     "output_type": "stream",
     "text": [
      "tensor([[0.1190, 0.7488, 0.0051],\n",
      "        [0.1788, 0.9204, 0.8871],\n",
      "        [0.6160, 0.8255, 0.9660],\n",
      "        [0.0718, 0.4968, 0.0340],\n",
      "        [0.3249, 0.2817, 0.5476],\n",
      "        [0.7235, 0.0178, 0.3624]])\n"
     ]
    }
   ],
   "source": [
    "# concatenates x and y column-wise\n",
    "print(torch.cat((x, y), dim=0))"
   ]
  },
  {
   "cell_type": "code",
   "execution_count": 128,
   "metadata": {},
   "outputs": [
    {
     "name": "stdout",
     "output_type": "stream",
     "text": [
      "tensor([[0.1190, 0.7488, 0.0051, 0.0718, 0.4968, 0.0340],\n",
      "        [0.1788, 0.9204, 0.8871, 0.3249, 0.2817, 0.5476],\n",
      "        [0.6160, 0.8255, 0.9660, 0.7235, 0.0178, 0.3624]])\n"
     ]
    }
   ],
   "source": [
    "# concatenates x and y row-wise\n",
    "print(torch.cat((x, y), dim=1))"
   ]
  },
  {
   "cell_type": "markdown",
   "metadata": {},
   "source": [
    "We can divide a `tensor` into multiple chunks using the `chunk` function."
   ]
  },
  {
   "cell_type": "code",
   "execution_count": 129,
   "metadata": {},
   "outputs": [
    {
     "name": "stdout",
     "output_type": "stream",
     "text": [
      "tensor([[0.1190, 0.7488, 0.0051]])\n",
      "tensor([[0.1788, 0.9204, 0.8871]])\n",
      "tensor([[0.6160, 0.8255, 0.9660]])\n"
     ]
    }
   ],
   "source": [
    "x_chunks = torch.chunk(x, 3)\n",
    "for chunk in x_chunks:\n",
    "    print(chunk)"
   ]
  },
  {
   "cell_type": "markdown",
   "metadata": {},
   "source": [
    "Sometimes we might need splits of different sizes. We can use the `split` function instead and define the size of each splits manually."
   ]
  },
  {
   "cell_type": "code",
   "execution_count": 131,
   "metadata": {},
   "outputs": [
    {
     "name": "stdout",
     "output_type": "stream",
     "text": [
      "tensor([[0.1190, 0.7488, 0.0051],\n",
      "        [0.1788, 0.9204, 0.8871]])\n",
      "tensor([[0.6160, 0.8255, 0.9660]])\n"
     ]
    }
   ],
   "source": [
    "x_chunks = torch.split(x, split_size_or_sections=[2, 1])\n",
    "for chunk in x_chunks:\n",
    "    print(chunk)"
   ]
  },
  {
   "cell_type": "code",
   "execution_count": 132,
   "metadata": {},
   "outputs": [
    {
     "data": {
      "text/plain": [
       "tensor([0.1190, 0.7488, 0.0051, 0.1788, 0.9204, 0.8871, 0.6160, 0.8255, 0.9660])"
      ]
     },
     "execution_count": 132,
     "metadata": {},
     "output_type": "execute_result"
    }
   ],
   "source": [
    "# unrolling all elements\n",
    "x.reshape(-1)"
   ]
  },
  {
   "cell_type": "code",
   "execution_count": 133,
   "metadata": {},
   "outputs": [
    {
     "name": "stdout",
     "output_type": "stream",
     "text": [
      "torch.Size([64, 3, 256, 256])\n",
      "torch.Size([64, 196608])\n"
     ]
    }
   ],
   "source": [
    "print(img.shape)\n",
    "# converting 2d color images into a vector of pixels\n",
    "print(img.reshape(64, -1).shape)"
   ]
  },
  {
   "cell_type": "code",
   "execution_count": 135,
   "metadata": {},
   "outputs": [
    {
     "name": "stdout",
     "output_type": "stream",
     "text": [
      "torch.Size([64, 256, 256, 3])\n"
     ]
    }
   ],
   "source": [
    "# swapping dimensions, changing colour channel dimension to the last\n",
    "print(img.permute(0, 2, 3, 1).shape)"
   ]
  },
  {
   "cell_type": "markdown",
   "metadata": {},
   "source": [
    "The `squeeze` function removes the given dimension, whereas the `unsqueeze` function adds an extra dimension."
   ]
  },
  {
   "cell_type": "code",
   "execution_count": 136,
   "metadata": {},
   "outputs": [
    {
     "name": "stdout",
     "output_type": "stream",
     "text": [
      "tensor([0, 1, 2, 3, 4, 5, 6, 7, 8, 9])\n",
      "torch.Size([1, 10])\n",
      "torch.Size([1, 10, 1])\n",
      "torch.Size([10, 1])\n"
     ]
    }
   ],
   "source": [
    "# add and remove a single dimension to the existing one\n",
    "x = torch.arange(10)\n",
    "print(x)\n",
    "x = x.unsqueeze(0)\n",
    "print(x.shape)\n",
    "x = x.unsqueeze(2)\n",
    "print(x.shape)\n",
    "x = x.squeeze(0)\n",
    "print(x.shape)"
   ]
  },
  {
   "attachments": {},
   "cell_type": "markdown",
   "metadata": {},
   "source": [
    "# Digit Classification\n",
    "In this short exercise, we will be building a naive **baseline** classifier to classify digits $3$ and $7$. We will utilize the `fast.ai` repository's MNIST SAMPLE dataset that only contains digits $3$ and $7$. A **baseline model** is a simple model that you are sure will work well. It should be easy to apply and test, so that you can test each of your better ideas and make sure they are always better than your baseline. If you don't start with something reasonable, it's hard to know if your super-fancy models are any good."
   ]
  },
  {
   "cell_type": "code",
   "execution_count": 3,
   "metadata": {},
   "outputs": [
    {
     "data": {
      "text/plain": [
       "Path('C:/Users/musab/.fastai/data/mnist_sample')"
      ]
     },
     "execution_count": 3,
     "metadata": {},
     "output_type": "execute_result"
    }
   ],
   "source": [
    "# Loads MNIST dataset from Fast.ai repository\n",
    "# This trimmed dataset contains only 3s and 7s\n",
    "path = untar_data(URLs.MNIST_SAMPLE)\n",
    "path"
   ]
  },
  {
   "cell_type": "markdown",
   "metadata": {},
   "source": [
    "fast.ai API returns the path to the downloaded dataset. The path is not just a string, rather it is a python Path object Learn more from [**documentation**](https://docs.python.org/3/library/pathlib.html). Or watch this [**tutorial**](https://www.youtube.com/watch?v=YwhOUyTxXVE) for a quick introduction. The new path object comes with many unix commands baked into itself for convenience."
   ]
  },
  {
   "cell_type": "code",
   "execution_count": 4,
   "metadata": {},
   "outputs": [
    {
     "name": "stdout",
     "output_type": "stream",
     "text": [
      "C:\\Users\\musab\\.fastai\\data\\mnist_sample\\labels.csv\n",
      "C:\\Users\\musab\\.fastai\\data\\mnist_sample\\train\n",
      "C:\\Users\\musab\\.fastai\\data\\mnist_sample\\valid\n"
     ]
    }
   ],
   "source": [
    "for p in path.ls():\n",
    "    print(p)"
   ]
  },
  {
   "cell_type": "markdown",
   "metadata": {},
   "source": [
    "The `/` operator is one of the most convenient shorthands for creating new paths."
   ]
  },
  {
   "cell_type": "code",
   "execution_count": 7,
   "metadata": {},
   "outputs": [
    {
     "name": "stdout",
     "output_type": "stream",
     "text": [
      "C:\\Users\\musab\\.fastai\\data\\mnist_sample\\train\\3\n",
      "C:\\Users\\musab\\.fastai\\data\\mnist_sample\\train\\7\n"
     ]
    }
   ],
   "source": [
    "for p in (path/'train').ls():\n",
    "    print(p)"
   ]
  },
  {
   "cell_type": "code",
   "execution_count": 8,
   "metadata": {},
   "outputs": [
    {
     "name": "stdout",
     "output_type": "stream",
     "text": [
      "C:\\Users\\musab\\.fastai\\data\\mnist_sample\\train\\3\\10.png\n",
      "C:\\Users\\musab\\.fastai\\data\\mnist_sample\\train\\3\\10000.png\n",
      "C:\\Users\\musab\\.fastai\\data\\mnist_sample\\train\\3\\10011.png\n",
      "\n",
      "C:\\Users\\musab\\.fastai\\data\\mnist_sample\\train\\7\\10002.png\n",
      "C:\\Users\\musab\\.fastai\\data\\mnist_sample\\train\\7\\1001.png\n",
      "C:\\Users\\musab\\.fastai\\data\\mnist_sample\\train\\7\\10014.png\n"
     ]
    }
   ],
   "source": [
    "threes = (path/'train/3').ls().sorted()\n",
    "sevens = (path/'train/7').ls().sorted()\n",
    "\n",
    "for p in threes[:3]:\n",
    "    print(p)\n",
    "print()\n",
    "for p in sevens[:3]:\n",
    "    print(p)"
   ]
  },
  {
   "cell_type": "code",
   "execution_count": 9,
   "metadata": {},
   "outputs": [
    {
     "name": "stdout",
     "output_type": "stream",
     "text": [
      "Number of images of 3:  6131\n",
      "Number of images of 7:  6265\n"
     ]
    }
   ],
   "source": [
    "print('Number of images of 3: ', len(threes))\n",
    "print('Number of images of 7: ', len(sevens))"
   ]
  },
  {
   "cell_type": "code",
   "execution_count": 10,
   "metadata": {},
   "outputs": [],
   "source": [
    "seven_tensors = [tensor(Image.open(o)) for o in sevens]\n",
    "three_tensors = [tensor(Image.open(o)) for o in threes]"
   ]
  },
  {
   "attachments": {},
   "cell_type": "markdown",
   "metadata": {},
   "source": [
    "Since the images are now in `tensor` data structure, we can use the `show_images` to display multiple images together, or we can use `show_image` to display a single image."
   ]
  },
  {
   "cell_type": "code",
   "execution_count": 17,
   "metadata": {},
   "outputs": [
    {
     "data": {
      "image/png": "[encoded data removed]",
      "text/plain": [
       "<Figure size 1200x300 with 4 Axes>"
      ]
     },
     "metadata": {},
     "output_type": "display_data"
    }
   ],
   "source": [
    "show_images((three_tensors[15], seven_tensors[10], three_tensors[19], seven_tensors[100]))"
   ]
  },
  {
   "attachments": {},
   "cell_type": "markdown",
   "metadata": {},
   "source": [
    "The images are now `Python` `list` of tensors. However, we need a single tensor that will contain all the images. The `stack` function of `PyTorch` does exactly the same thing. It stacks individual tensors in a collection into a single tensor.\n",
    "\n",
    "At the same time, we are converting the data type to floats since deep learning algorithms will yield fractions. Also, we have normalized our pixels values by dividing them by 255."
   ]
  },
  {
   "cell_type": "code",
   "execution_count": 14,
   "metadata": {},
   "outputs": [
    {
     "name": "stdout",
     "output_type": "stream",
     "text": [
      "torch.Size([6131, 28, 28])\n",
      "torch.Size([6265, 28, 28])\n"
     ]
    }
   ],
   "source": [
    "stacked_sevens = torch.stack(seven_tensors).float() / 255.0\n",
    "stacked_threes = torch.stack(three_tensors).float() / 255.0\n",
    "\n",
    "print(stacked_threes.shape)\n",
    "print(stacked_sevens.shape)"
   ]
  },
  {
   "attachments": {},
   "cell_type": "markdown",
   "metadata": {},
   "source": [
    "Our idea is to find the mean representation of $3$ and $7$. Then for any new digit,\n",
    "we will compute the distance from the digit to both $3$ and $7$. We will predict the\n",
    "digit with the smallest distance between the two. Next, we will calculate the average\n",
    "representation of the digits $3$ and $7$.\n",
    "\n",
    "When we are calculating the mean, we are calculating it for each pixel across all available images.\n",
    "That's why in the `mean` function, the given dimension is $0$ which is the batch dimension."
   ]
  },
  {
   "cell_type": "code",
   "execution_count": 15,
   "metadata": {},
   "outputs": [
    {
     "data": {
      "text/plain": [
       "<Axes: >"
      ]
     },
     "execution_count": 15,
     "metadata": {},
     "output_type": "execute_result"
    },
    {
     "data": {
      "image/png": "[encoded data removed]",
      "text/plain": [
       "<Figure size 100x100 with 1 Axes>"
      ]
     },
     "metadata": {},
     "output_type": "display_data"
    }
   ],
   "source": [
    "mean3 = stacked_threes.mean(0)\n",
    "show_image(mean3)"
   ]
  },
  {
   "cell_type": "code",
   "execution_count": 16,
   "metadata": {},
   "outputs": [
    {
     "data": {
      "text/plain": [
       "<Axes: >"
      ]
     },
     "execution_count": 16,
     "metadata": {},
     "output_type": "execute_result"
    },
    {
     "data": {
      "image/png": "[encoded data removed]",
      "text/plain": [
       "<Figure size 100x100 with 1 Axes>"
      ]
     },
     "metadata": {},
     "output_type": "display_data"
    }
   ],
   "source": [
    "mean7 = stacked_sevens.mean(0)\n",
    "show_image(mean7)"
   ]
  },
  {
   "cell_type": "markdown",
   "metadata": {},
   "source": [
    "Next we will create some functions to calculate distance between two images, and\n",
    "also to predict digit."
   ]
  },
  {
   "cell_type": "code",
   "execution_count": 18,
   "metadata": {},
   "outputs": [],
   "source": [
    "def l1_distance(img1: tensor, img2: tensor) -> tensor:\n",
    "    \"\"\"Function to calculate average l1 distance or the mean absolute error between\n",
    "    two images.\"\"\"\n",
    "    return (img1 - img2).abs().mean((-1, -2))"
   ]
  },
  {
   "cell_type": "code",
   "execution_count": 20,
   "metadata": {},
   "outputs": [],
   "source": [
    "def predict(img: tensor) -> int:\n",
    "    \"\"\"Returns 3 if the distance between given image and average image of the\n",
    "    digit 3 is smaller than that of digit 7. Returns 7 otherwise.\"\"\"\n",
    "    mask = l1_distance(img, mean3) < l1_distance(img, mean7)\n",
    "    mask = torch.where(mask, torch.tensor(3), torch.tensor(7))\n",
    "    return mask"
   ]
  },
  {
   "cell_type": "code",
   "execution_count": 21,
   "metadata": {},
   "outputs": [
    {
     "data": {
      "image/png": "[encoded data removed]",
      "text/plain": [
       "<Figure size 600x300 with 2 Axes>"
      ]
     },
     "metadata": {},
     "output_type": "display_data"
    }
   ],
   "source": [
    "a_3 = stacked_threes[1]\n",
    "a_7 = stacked_sevens[12]\n",
    "\n",
    "show_images((a_3, a_7))"
   ]
  },
  {
   "cell_type": "code",
   "execution_count": 22,
   "metadata": {},
   "outputs": [
    {
     "name": "stdout",
     "output_type": "stream",
     "text": [
      "tensor(3)\n",
      "tensor(7)\n"
     ]
    }
   ],
   "source": [
    "print(predict(a_3))\n",
    "print(predict(a_7))"
   ]
  },
  {
   "cell_type": "markdown",
   "metadata": {},
   "source": [
    "Our model worked well on the training data. Let's load the validation data and \n",
    "measure the performance."
   ]
  },
  {
   "cell_type": "code",
   "execution_count": 23,
   "metadata": {},
   "outputs": [
    {
     "data": {
      "text/plain": [
       "(torch.Size([1010, 28, 28]), torch.Size([1028, 28, 28]))"
      ]
     },
     "execution_count": 23,
     "metadata": {},
     "output_type": "execute_result"
    }
   ],
   "source": [
    "valid_3_tens = torch.stack([tensor(Image.open(o)) for o in (path/'valid'/'3').ls()])\n",
    "valid_3_tens = valid_3_tens.float() / 255\n",
    "\n",
    "valid_7_tens = torch.stack([tensor(Image.open(o)) for o in (path/'valid'/'7').ls()]) \n",
    "valid_7_tens = valid_7_tens.float() / 255\n",
    "\n",
    "valid_3_tens.shape, valid_7_tens.shape"
   ]
  },
  {
   "cell_type": "markdown",
   "metadata": {},
   "source": [
    "Next, we will combine the $3$ and $7$ tensors to a single dataset."
   ]
  },
  {
   "cell_type": "code",
   "execution_count": 24,
   "metadata": {},
   "outputs": [
    {
     "data": {
      "text/plain": [
       "torch.Size([2038, 28, 28])"
      ]
     },
     "execution_count": 24,
     "metadata": {},
     "output_type": "execute_result"
    }
   ],
   "source": [
    "valid_data_x = torch.cat([valid_3_tens, valid_7_tens])\n",
    "valid_data_x.shape"
   ]
  },
  {
   "cell_type": "markdown",
   "metadata": {},
   "source": [
    "We will create a tensor to store the actual labels."
   ]
  },
  {
   "cell_type": "code",
   "execution_count": 26,
   "metadata": {},
   "outputs": [
    {
     "data": {
      "text/plain": [
       "torch.Size([2038])"
      ]
     },
     "execution_count": 26,
     "metadata": {},
     "output_type": "execute_result"
    }
   ],
   "source": [
    "valid_data_y = torch.tensor([3] * valid_3_tens.shape[0] + [7] * valid_7_tens.shape[0])\n",
    "valid_data_y.shape"
   ]
  },
  {
   "cell_type": "markdown",
   "metadata": {},
   "source": [
    "Finally, we will predict and compute the accuracy."
   ]
  },
  {
   "cell_type": "code",
   "execution_count": 27,
   "metadata": {},
   "outputs": [],
   "source": [
    "predictions = predict(valid_data_x)"
   ]
  },
  {
   "cell_type": "code",
   "execution_count": 28,
   "metadata": {},
   "outputs": [
    {
     "data": {
      "text/plain": [
       "95.14229583740234"
      ]
     },
     "execution_count": 28,
     "metadata": {},
     "output_type": "execute_result"
    }
   ],
   "source": [
    "# Accuracy\n",
    "acc = torch.sum(predictions == valid_data_y) / len(predictions) * 100\n",
    "acc.item()"
   ]
  }
 ],
 "metadata": {
  "kernelspec": {
   "display_name": "Python 3.9.13 64-bit",
   "language": "python",
   "name": "python3"
  },
  "language_info": {
   "codemirror_mode": {
    "name": "ipython",
    "version": 3
   },
   "file_extension": ".py",
   "mimetype": "text/x-python",
   "name": "python",
   "nbconvert_exporter": "python",
   "pygments_lexer": "ipython3",
   "version": "3.10.11"
  },
  "orig_nbformat": 4,
  "vscode": {
   "interpreter": {
    "hash": "b0fa6594d8f4cbf19f97940f81e996739fb7646882a419484c72d19e05852a7e"
   }
  }
 },
 "nbformat": 4,
 "nbformat_minor": 2
}
