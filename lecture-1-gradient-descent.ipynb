{
 "cells": [
  {
   "attachments": {},
   "cell_type": "markdown",
   "metadata": {},
   "source": [
    "# Gradient Descent from Scratch\n",
    "In this tutorial, we will be building gradient descent algorithm from the scratch\n",
    "using `tensors` that we learned in the previous topic. It will test your knowledge\n",
    "on `tensors` and its operations. First, we will import all\n",
    "the necessary libraries."
   ]
  },
  {
   "cell_type": "code",
   "execution_count": 1,
   "metadata": {},
   "outputs": [],
   "source": [
    "import numpy as np\n",
    "import pandas as pd\n",
    "import matplotlib.pyplot as plt\n",
    "\n",
    "import torch\n",
    "from fastai.vision.all import *"
   ]
  },
  {
   "attachments": {},
   "cell_type": "markdown",
   "metadata": {},
   "source": [
    "# Autograd\n",
    "A tensor can be created with `requires_grad=True` so that `torch.autograd` records operations on them for automatic differentiation. For example, we know that if some function is $f(x) = x^2$, its derivative with respect to its variable $x$ will be $\\frac{\\mathrm{df(x)}}{\\mathrm{dx}}=2x$. Therefore, for some random value of the variable $x$, say, $2$, the derivative of the function will be $\\frac{\\mathrm{df(2)}}{\\mathrm{dx}}=2(2)=4$"
   ]
  },
  {
   "cell_type": "code",
   "execution_count": 2,
   "metadata": {},
   "outputs": [],
   "source": [
    "def f(x: tensor) -> tensor:\n",
    "    return x ** 2"
   ]
  },
  {
   "cell_type": "code",
   "execution_count": 3,
   "metadata": {},
   "outputs": [
    {
     "data": {
      "text/plain": [
       "tensor([2.], requires_grad=True)"
      ]
     },
     "execution_count": 3,
     "metadata": {},
     "output_type": "execute_result"
    }
   ],
   "source": [
    "x = torch.tensor([2], dtype=torch.float32, requires_grad=True)\n",
    "x"
   ]
  },
  {
   "cell_type": "code",
   "execution_count": 4,
   "metadata": {},
   "outputs": [
    {
     "data": {
      "text/plain": [
       "tensor([4.], grad_fn=<PowBackward0>)"
      ]
     },
     "execution_count": 4,
     "metadata": {},
     "output_type": "execute_result"
    }
   ],
   "source": [
    "y = f(x)\n",
    "y"
   ]
  },
  {
   "attachments": {},
   "cell_type": "markdown",
   "metadata": {},
   "source": [
    "The `backward` function will calculate derivatives of all the variable involved in the computation. After that, you can simply access the `grad` property of each variable."
   ]
  },
  {
   "cell_type": "code",
   "execution_count": 5,
   "metadata": {},
   "outputs": [
    {
     "name": "stdout",
     "output_type": "stream",
     "text": [
      "The dervative at x = 2:  tensor([4.])\n"
     ]
    }
   ],
   "source": [
    "y.backward()\n",
    "print(\"The dervative at x = 2: \", x.grad)"
   ]
  },
  {
   "attachments": {},
   "cell_type": "markdown",
   "metadata": {},
   "source": [
    "Now, we will do the same when inputs have multiple data points. Now our function will be $f(x_{1}, x_{2}, x_{3}, x_{4}) = x^{2}_{1} + x^{2}_{2} + x^{2}_{3} + x^{2}_{4}$. Since we have $4$ variables now, such as $x_{1}, x_{2}, x_{3},$ and $x_{4}$, we can not simply compute the derivative. Now we have to compute the partial derivatives of the function $f(x)$ with respect to all the variables individually. Here the partial derivatives will be $\\frac{df}{dx_{1}} = 2{x_{1}}$, $\\frac{df}{dx_{2}} = 2{x_{2}}$, $\\frac{df}{dx_{3}} = 2{x_{3}}$, $\\frac{df}{dx_{4}} = 2{x_{4}}$."
   ]
  },
  {
   "cell_type": "code",
   "execution_count": 6,
   "metadata": {},
   "outputs": [
    {
     "data": {
      "text/plain": [
       "tensor([ 2., -2.,  3., -3.], requires_grad=True)"
      ]
     },
     "execution_count": 6,
     "metadata": {},
     "output_type": "execute_result"
    }
   ],
   "source": [
    "x = torch.tensor([2, -2, 3, -3], dtype=torch.float32, requires_grad=True)\n",
    "x"
   ]
  },
  {
   "cell_type": "code",
   "execution_count": 7,
   "metadata": {},
   "outputs": [],
   "source": [
    "y = f(x)\n",
    "y = y.sum()"
   ]
  },
  {
   "cell_type": "code",
   "execution_count": 8,
   "metadata": {},
   "outputs": [
    {
     "name": "stdout",
     "output_type": "stream",
     "text": [
      "The dervative at x = 2:  tensor([ 4., -4.,  6., -6.])\n"
     ]
    }
   ],
   "source": [
    "y.backward()\n",
    "print(\"The dervative at x = 2: \", x.grad)"
   ]
  },
  {
   "attachments": {},
   "cell_type": "markdown",
   "metadata": {},
   "source": [
    "# Gradient Descent\n",
    "Let's create a simple dataset first. Suppose, this dataset is about the speed of a vehicle from start to any finite time."
   ]
  },
  {
   "cell_type": "code",
   "execution_count": 9,
   "metadata": {},
   "outputs": [
    {
     "data": {
      "image/png": "[encoded data removed]",
      "text/plain": [
       "<Figure size 640x480 with 1 Axes>"
      ]
     },
     "metadata": {},
     "output_type": "display_data"
    }
   ],
   "source": [
    "time = torch.arange(0, 20).float()\n",
    "speed = torch.randn(20) * 3 + 0.75 * (time - 9.5)**2 + 1\n",
    "\n",
    "plt.scatter(time, speed)\n",
    "plt.xlabel('Time')\n",
    "plt.ylabel('Speed')\n",
    "plt.show()"
   ]
  },
  {
   "attachments": {},
   "cell_type": "markdown",
   "metadata": {},
   "source": [
    "Suppose, we are going to predict the speed of the vehicle given the time using the formula $a\\times(time^2)+(b\\times time)+c$. Now, from the previous cell, you know that the value of $a$ will be 0.75, $b$ is 3, and $c$ is 1. However, we will estimate these values from the data using gradient descent algorithm.\n",
    "\n",
    "Here $a, b,$ and $c$ are the parameters of our model beacuse we do not know the value of them. It is the job of the algorithm to find the optimal values for these parameters so that our prediction is as good as possible."
   ]
  },
  {
   "cell_type": "code",
   "execution_count": 10,
   "metadata": {},
   "outputs": [],
   "source": [
    "def f(time: tensor, params: tensor) -> tensor:\n",
    "    a, b, c = params\n",
    "    return a*(time**2) + b*time + c"
   ]
  },
  {
   "attachments": {},
   "cell_type": "markdown",
   "metadata": {},
   "source": [
    "Next, we have to define a function to measure how good our prediction is."
   ]
  },
  {
   "cell_type": "code",
   "execution_count": 11,
   "metadata": {},
   "outputs": [],
   "source": [
    "def mean_square_error(preds: tensor, targets: tensor) -> tensor:\n",
    "    return ((preds - targets)**2).mean()"
   ]
  },
  {
   "attachments": {},
   "cell_type": "markdown",
   "metadata": {},
   "source": [
    "Let's create and initialize the values for our parameters $a, b,$ and $c$."
   ]
  },
  {
   "cell_type": "code",
   "execution_count": 12,
   "metadata": {},
   "outputs": [
    {
     "name": "stdout",
     "output_type": "stream",
     "text": [
      "Initial value for a:  tensor(0.3137, grad_fn=<SelectBackward0>)\n",
      "Initial value for b:  tensor(0.6482, grad_fn=<SelectBackward0>)\n",
      "Initial value for c:  tensor(-1.1443, grad_fn=<SelectBackward0>)\n"
     ]
    }
   ],
   "source": [
    "params = torch.randn(3).requires_grad_()\n",
    "print('Initial value for a: ', params[0])\n",
    "print('Initial value for b: ', params[1])\n",
    "print('Initial value for c: ', params[2])"
   ]
  },
  {
   "attachments": {},
   "cell_type": "markdown",
   "metadata": {},
   "source": [
    "Now, let's predict with the randomly initialized parameters. As you can see, our predictions are far away from the actual values."
   ]
  },
  {
   "cell_type": "code",
   "execution_count": 13,
   "metadata": {},
   "outputs": [
    {
     "data": {
      "image/png": "[encoded data removed]",
      "text/plain": [
       "<Figure size 640x480 with 1 Axes>"
      ]
     },
     "metadata": {},
     "output_type": "display_data"
    }
   ],
   "source": [
    "preds = f(time, params)\n",
    "\n",
    "plt.scatter(time, speed)\n",
    "plt.scatter(time, to_np(preds), color='red')\n",
    "plt.show()"
   ]
  },
  {
   "attachments": {},
   "cell_type": "markdown",
   "metadata": {},
   "source": [
    "Let's calculate the error of our model using the mean square error function that we just wrote."
   ]
  },
  {
   "cell_type": "code",
   "execution_count": 14,
   "metadata": {},
   "outputs": [
    {
     "name": "stdout",
     "output_type": "stream",
     "text": [
      "1936.605224609375\n"
     ]
    }
   ],
   "source": [
    "loss = mean_square_error(preds, speed)\n",
    "print(loss.item())"
   ]
  },
  {
   "attachments": {},
   "cell_type": "markdown",
   "metadata": {},
   "source": [
    "Now, we will calculate the partial derivatives of this error with respect to all the parameters that contributed the error. Then we will update our paramters using the partial derivatives and a learning rate."
   ]
  },
  {
   "cell_type": "code",
   "execution_count": 15,
   "metadata": {},
   "outputs": [],
   "source": [
    "loss.backward()"
   ]
  },
  {
   "cell_type": "code",
   "execution_count": 16,
   "metadata": {},
   "outputs": [],
   "source": [
    "lr = 1e-5\n",
    "params.data = params.data - lr * params.grad\n",
    "params.grad = None"
   ]
  },
  {
   "attachments": {},
   "cell_type": "markdown",
   "metadata": {},
   "source": [
    "Let's see if our predictions have improved. As you will see, our predictions have improved a little, and our loss is also decreased."
   ]
  },
  {
   "cell_type": "code",
   "execution_count": 17,
   "metadata": {},
   "outputs": [
    {
     "data": {
      "image/png": "[encoded data removed]",
      "text/plain": [
       "<Figure size 640x480 with 1 Axes>"
      ]
     },
     "metadata": {},
     "output_type": "display_data"
    }
   ],
   "source": [
    "preds = f(time, params)\n",
    "\n",
    "plt.scatter(time, speed)\n",
    "plt.scatter(time, to_np(preds), color='red')\n",
    "plt.show()"
   ]
  },
  {
   "cell_type": "code",
   "execution_count": 18,
   "metadata": {},
   "outputs": [
    {
     "name": "stdout",
     "output_type": "stream",
     "text": [
      "921.4987182617188\n"
     ]
    }
   ],
   "source": [
    "loss = mean_square_error(preds, speed)\n",
    "print(loss.item())"
   ]
  },
  {
   "attachments": {},
   "cell_type": "markdown",
   "metadata": {},
   "source": [
    "Let's write all the steps of the gradient descen in a single function."
   ]
  },
  {
   "cell_type": "code",
   "execution_count": 19,
   "metadata": {},
   "outputs": [],
   "source": [
    "def step(params):\n",
    "    preds = f(time, params)\n",
    "    loss = mean_square_error(preds, speed)\n",
    "    loss.backward()\n",
    "    params.data = params.data - lr * params.grad\n",
    "    params.grad = None\n",
    "    return preds"
   ]
  },
  {
   "attachments": {},
   "cell_type": "markdown",
   "metadata": {},
   "source": [
    "Now let's check how our predictions improve with time."
   ]
  },
  {
   "cell_type": "code",
   "execution_count": 20,
   "metadata": {},
   "outputs": [
    {
     "data": {
      "image/png": "[encoded data removed]",
      "text/plain": [
       "<Figure size 1200x300 with 4 Axes>"
      ]
     },
     "metadata": {},
     "output_type": "display_data"
    }
   ],
   "source": [
    "_, axs = plt.subplots(1, 4, figsize=(12, 3))\n",
    "for ax in axs:\n",
    "    preds = step(params)\n",
    "    ax.scatter(time, speed)\n",
    "    ax.scatter(time, to_np(preds), color='red')\n",
    "plt.tight_layout()\n",
    "plt.show()"
   ]
  },
  {
   "attachments": {},
   "cell_type": "markdown",
   "metadata": {},
   "source": [
    "# MNIST Dataset\n",
    "We will use the MNIST Sample dataset from the `Fastai` repository. This dataset contains\n",
    "a stripped down version of the actual MNIST hand written digits. It contains the digits\n",
    "$3$ and $7$ only. Our task will be build a `Logistic Regression` classifier to classify\n",
    "the digits. First, we will create dataloaders for both training and validation data."
   ]
  },
  {
   "cell_type": "code",
   "execution_count": 21,
   "metadata": {},
   "outputs": [],
   "source": [
    "# Loads MNIST dataset from Fast.ai repository\n",
    "# This trimmed dataset contains only 3s and 7s\n",
    "path = untar_data(URLs.MNIST_SAMPLE)"
   ]
  },
  {
   "attachments": {},
   "cell_type": "markdown",
   "metadata": {},
   "source": [
    "### Training Set"
   ]
  },
  {
   "cell_type": "code",
   "execution_count": 22,
   "metadata": {},
   "outputs": [],
   "source": [
    "threes = (path/'train/3').ls().sorted()\n",
    "sevens = (path/'train/7').ls().sorted()\n",
    "\n",
    "seven_tensors = [tensor(Image.open(o)) for o in sevens]\n",
    "three_tensors = [tensor(Image.open(o)) for o in threes]\n",
    "\n",
    "stacked_sevens = torch.stack(seven_tensors).float() / 255\n",
    "stacked_threes = torch.stack(three_tensors).float() / 255"
   ]
  },
  {
   "cell_type": "code",
   "execution_count": 23,
   "metadata": {},
   "outputs": [
    {
     "data": {
      "text/plain": [
       "(torch.Size([12396, 784]), torch.Size([12396, 1]))"
      ]
     },
     "execution_count": 23,
     "metadata": {},
     "output_type": "execute_result"
    }
   ],
   "source": [
    "train_x = torch.cat([stacked_threes, stacked_sevens]).view(-1, 28 * 28)\n",
    "train_y = tensor([1] * len(threes) + [0] * len(sevens)).unsqueeze(1)\n",
    "\n",
    "train_x.shape, train_y.shape"
   ]
  },
  {
   "cell_type": "code",
   "execution_count": 24,
   "metadata": {},
   "outputs": [
    {
     "data": {
      "image/png": "[encoded data removed]",
      "text/plain": [
       "<Figure size 100x100 with 1 Axes>"
      ]
     },
     "metadata": {},
     "output_type": "display_data"
    }
   ],
   "source": [
    "dset = list(zip(train_x, train_y))\n",
    "\n",
    "x, y = dset[0]\n",
    "show_titled_image((x.view(28, 28), str(y.item())))"
   ]
  },
  {
   "attachments": {},
   "cell_type": "markdown",
   "metadata": {},
   "source": [
    "### Validation Set"
   ]
  },
  {
   "cell_type": "code",
   "execution_count": 25,
   "metadata": {},
   "outputs": [],
   "source": [
    "valid_stacked_threes = torch.stack([tensor(Image.open(o)) for o in (path/'valid'/'3').ls()])\n",
    "valid_stacked_threes = valid_stacked_threes.float() / 255\n",
    "\n",
    "valid_stacked_sevens = torch.stack([tensor(Image.open(o)) for o in (path/'valid'/'7').ls()]) \n",
    "valid_stacked_sevens = valid_stacked_sevens.float() / 255"
   ]
  },
  {
   "cell_type": "code",
   "execution_count": 26,
   "metadata": {},
   "outputs": [
    {
     "data": {
      "text/plain": [
       "(torch.Size([2038, 784]), torch.Size([2038, 1]))"
      ]
     },
     "execution_count": 26,
     "metadata": {},
     "output_type": "execute_result"
    }
   ],
   "source": [
    "valid_x = torch.cat([valid_stacked_threes, valid_stacked_sevens]).view(-1, 28*28)\n",
    "valid_y = tensor([1] * len(valid_stacked_threes) + [0]*len(valid_stacked_sevens)).unsqueeze(1)\n",
    "\n",
    "valid_x.shape, valid_y.shape"
   ]
  },
  {
   "cell_type": "code",
   "execution_count": 27,
   "metadata": {},
   "outputs": [
    {
     "data": {
      "image/png": "[encoded data removed]",
      "text/plain": [
       "<Figure size 100x100 with 1 Axes>"
      ]
     },
     "metadata": {},
     "output_type": "display_data"
    }
   ],
   "source": [
    "valid_dset = list(zip(valid_x, valid_y))\n",
    "\n",
    "x, y = valid_dset[-1]\n",
    "show_titled_image((x.view(28, 28), str(y.item())))"
   ]
  },
  {
   "attachments": {},
   "cell_type": "markdown",
   "metadata": {},
   "source": [
    "# Model\n",
    "We will use a 2 layer neural network where the first hidden layer has 16 neurons and\n",
    "the second hidden layer has 8 neurons. Our images are of size $28\\times28$. \n",
    "Therefore we will need a total number of $784\\times16$ weights for our first hidden\n",
    "layer, in addition to $16$ bias parameters. In the second hidden layer, we will need\n",
    "$16\\times8$ weights and $8$ bias parameters. Finally, in the output layer, we will\n",
    "need $8\\times1$ weights and $1$ parameters.\n",
    "\n",
    "### Initialize Parameters\n",
    "We will be needing one weight for each pixel. So, let's write a function that will initialize\n",
    "parameters of a given size."
   ]
  },
  {
   "cell_type": "code",
   "execution_count": 28,
   "metadata": {},
   "outputs": [],
   "source": [
    "def init_params(size, std=0.1):\n",
    "    return (torch.randn(size) * std).requires_grad_()"
   ]
  },
  {
   "cell_type": "code",
   "execution_count": 29,
   "metadata": {},
   "outputs": [],
   "source": [
    "w1 = init_params((28*28, 16))\n",
    "b1 = init_params(16)\n",
    "w2 = init_params((16, 8))\n",
    "b2 = init_params(8)\n",
    "w3 = init_params((8, 1))\n",
    "b3 = init_params(1)"
   ]
  },
  {
   "cell_type": "code",
   "execution_count": 30,
   "metadata": {},
   "outputs": [
    {
     "name": "stdout",
     "output_type": "stream",
     "text": [
      "torch.Size([784, 16])\n",
      "torch.Size([16])\n",
      "torch.Size([16, 8])\n",
      "torch.Size([8])\n",
      "torch.Size([8, 1])\n",
      "torch.Size([1])\n"
     ]
    }
   ],
   "source": [
    "print(w1.data.shape)\n",
    "print(b1.data.shape)\n",
    "print(w2.data.shape)\n",
    "print(b2.data.shape)\n",
    "print(w3.data.shape)\n",
    "print(b3.data.shape)"
   ]
  },
  {
   "attachments": {},
   "cell_type": "markdown",
   "metadata": {},
   "source": [
    "### Activation Functions\n",
    "We will define some useful activation functions that will be used in the model. We\n",
    "will use `relu` in the hidden layers, and `sigmoid` for prediction."
   ]
  },
  {
   "cell_type": "code",
   "execution_count": 31,
   "metadata": {},
   "outputs": [],
   "source": [
    "def sigmoid(x):\n",
    "    return 1 / (1 + torch.exp(-x))"
   ]
  },
  {
   "cell_type": "code",
   "execution_count": 32,
   "metadata": {},
   "outputs": [],
   "source": [
    "def relu(x):\n",
    "    return x.max(tensor(0.0))"
   ]
  },
  {
   "attachments": {},
   "cell_type": "markdown",
   "metadata": {},
   "source": [
    "### Model"
   ]
  },
  {
   "cell_type": "code",
   "execution_count": 33,
   "metadata": {},
   "outputs": [],
   "source": [
    "def forward(x):\n",
    "    x = x @ w1 + b1\n",
    "    x = relu(x)\n",
    "    x = x @ w2 + b2\n",
    "    x = relu(x)\n",
    "    x = x @ w3 + b3\n",
    "    x = sigmoid(x)\n",
    "    return x"
   ]
  },
  {
   "attachments": {},
   "cell_type": "markdown",
   "metadata": {},
   "source": [
    "### Loss Function\n",
    "We will need a loss function for gradient descent. In this custom loss function,\n",
    "we are simply calculating the distance from the prediction and the actual target.\n",
    "Since the prediction will be ranged between $0$ and $1$ due the `sigmoid` function\n",
    "in the output layer, we can safely avoid `MSE` loss function."
   ]
  },
  {
   "cell_type": "code",
   "execution_count": 34,
   "metadata": {},
   "outputs": [],
   "source": [
    "def mnist_loss(predictions, targets):\n",
    "    return torch.where(targets == 1, 1 - predictions, predictions).mean()"
   ]
  },
  {
   "attachments": {},
   "cell_type": "markdown",
   "metadata": {},
   "source": [
    "### Training"
   ]
  },
  {
   "cell_type": "code",
   "execution_count": 35,
   "metadata": {},
   "outputs": [],
   "source": [
    "lr = 0.01\n",
    "epochs = 25"
   ]
  },
  {
   "cell_type": "code",
   "execution_count": 36,
   "metadata": {},
   "outputs": [],
   "source": [
    "dl = DataLoader(dset, batch_size=256)\n",
    "valid_dl = DataLoader(valid_dset, batch_size=256)"
   ]
  },
  {
   "cell_type": "code",
   "execution_count": 37,
   "metadata": {},
   "outputs": [
    {
     "name": "stdout",
     "output_type": "stream",
     "text": [
      "Epoch 0: Loss 0.5040188973047295, Validation Accuracy 0.4550979738313008\n",
      "Epoch 1: Loss 0.503042145651214, Validation Accuracy 0.47171938516260165\n",
      "Epoch 2: Loss 0.502170747031971, Validation Accuracy 0.48539126016260165\n",
      "Epoch 3: Loss 0.501364527308211, Validation Accuracy 0.4966812754065041\n",
      "Epoch 4: Loss 0.5005788486831042, Validation Accuracy 0.5059983168191057\n",
      "Epoch 5: Loss 0.49977350782374946, Validation Accuracy 0.516819899644309\n",
      "Epoch 6: Loss 0.4988990797072041, Validation Accuracy 0.5291063262195121\n",
      "Epoch 7: Loss 0.49789922821278476, Validation Accuracy 0.5428774453760162\n",
      "Epoch 8: Loss 0.4967035523482731, Validation Accuracy 0.5660450012703252\n",
      "Epoch 9: Loss 0.4952144835676466, Validation Accuracy 0.5867116044207317\n",
      "Epoch 10: Loss 0.49329826296592244, Validation Accuracy 0.624706237296748\n",
      "Epoch 11: Loss 0.4907504855370035, Validation Accuracy 0.6676829268292683\n",
      "Epoch 12: Loss 0.48727431893348694, Validation Accuracy 0.7007153518800813\n",
      "Epoch 13: Loss 0.48241686699341757, Validation Accuracy 0.7361296366869918\n",
      "Epoch 14: Loss 0.4754974282517725, Validation Accuracy 0.7705475101626016\n",
      "Epoch 15: Loss 0.46547027692502857, Validation Accuracy 0.7991655551321138\n",
      "Epoch 16: Loss 0.45081304287423896, Validation Accuracy 0.822900787601626\n",
      "Epoch 17: Loss 0.4297965521715125, Validation Accuracy 0.8484303544207317\n",
      "Epoch 18: Loss 0.4014782066247901, Validation Accuracy 0.8697241806402439\n",
      "Epoch 19: Loss 0.3670248079056643, Validation Accuracy 0.8969369283536586\n",
      "Epoch 20: Loss 0.3287791938197856, Validation Accuracy 0.9223156440548781\n",
      "Epoch 21: Loss 0.2874143181406722, Validation Accuracy 0.943041793699187\n",
      "Epoch 22: Loss 0.24277013585883744, Validation Accuracy 0.9534346417682926\n",
      "Epoch 23: Loss 0.1967953402473002, Validation Accuracy 0.9544707507621951\n",
      "Epoch 24: Loss 0.15644464200856734, Validation Accuracy 0.9574401359247967\n"
     ]
    }
   ],
   "source": [
    "for epoch in range(epochs):\n",
    "    losses = []\n",
    "\n",
    "    for xb, yb, in dl:\n",
    "        preds = forward(xb)\n",
    "        loss = mnist_loss(preds, yb)\n",
    "        losses.append(loss.item())\n",
    "        loss.backward()\n",
    "\n",
    "        w1.data -= w1.grad * lr\n",
    "        w2.data -= w2.grad * lr\n",
    "        w3.data -= w3.grad * lr\n",
    "\n",
    "        b1.data -= b1.grad * lr\n",
    "        b2.data -= b2.grad * lr\n",
    "        b3.data -= b3.grad * lr\n",
    "\n",
    "        w1.grad.zero_()\n",
    "        w2.grad.zero_()\n",
    "        w3.grad.zero_()\n",
    "        b1.grad.zero_()\n",
    "        b2.grad.zero_()\n",
    "        b3.grad.zero_()\n",
    "    \n",
    "    acc = []\n",
    "    for vx, vy in valid_dl:\n",
    "        v_preds = forward(vx)\n",
    "        v_preds = torch.where(v_preds >= 0.5, 1, 0)\n",
    "        acc.append(torch.sum(v_preds == vy).item() / vx.shape[0])\n",
    "\n",
    "    print(\"Epoch {}: Loss {}, Validation Accuracy {}\".format(epoch, sum(losses) / len(losses), \n",
    "            sum(acc) / len(acc)))"
   ]
  }
 ],
 "metadata": {
  "kernelspec": {
   "display_name": "Python 3.9.13 64-bit",
   "language": "python",
   "name": "python3"
  },
  "language_info": {
   "codemirror_mode": {
    "name": "ipython",
    "version": 3
   },
   "file_extension": ".py",
   "mimetype": "text/x-python",
   "name": "python",
   "nbconvert_exporter": "python",
   "pygments_lexer": "ipython3",
   "version": "3.10.11"
  },
  "orig_nbformat": 4,
  "vscode": {
   "interpreter": {
    "hash": "b0fa6594d8f4cbf19f97940f81e996739fb7646882a419484c72d19e05852a7e"
   }
  }
 },
 "nbformat": 4,
 "nbformat_minor": 2
}
