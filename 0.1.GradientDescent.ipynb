{
 "cells": [
  {
   "cell_type": "markdown",
   "metadata": {},
   "source": [
    "# Gradient Descent from Scratch\n",
    "In this tutorial, we will be building gradient descent algorithm from the scratch\n",
    "using `tensors` that we learned in the previous topic. It will test your knowledge\n",
    "on `tensors` and its operations. First, we will import all\n",
    "the necessary libraries."
   ]
  },
  {
   "cell_type": "code",
   "execution_count": 1,
   "metadata": {},
   "outputs": [],
   "source": [
    "import numpy as np\n",
    "import pandas as pd\n",
    "import matplotlib.pyplot as plt\n",
    "\n",
    "import torch\n",
    "from fastai.vision.all import *"
   ]
  },
  {
   "attachments": {},
   "cell_type": "markdown",
   "metadata": {},
   "source": [
    "# Autograd\n",
    "A tensor can be created with `requires_grad=True` so that `torch.autograd` records operations on them for automatic differentiation. For example, we know that if some function is $f(x) = x^2$, its derivative with respect to its variable $x$ will be $\\frac{\\mathrm{df(x)}}{\\mathrm{dx}}=2x$. Therefore, for some random value of the variable $x$, say, $2$, the derivative of the function will be $\\frac{\\mathrm{df(2)}}{\\mathrm{dx}}=2(2)=4$"
   ]
  },
  {
   "cell_type": "code",
   "execution_count": 2,
   "metadata": {},
   "outputs": [
    {
     "data": {
      "text/plain": [
       "tensor([2.], requires_grad=True)"
      ]
     },
     "execution_count": 2,
     "metadata": {},
     "output_type": "execute_result"
    }
   ],
   "source": [
    "x = torch.tensor([2], dtype=torch.float32, requires_grad=True)\n",
    "x"
   ]
  },
  {
   "cell_type": "code",
   "execution_count": 3,
   "metadata": {},
   "outputs": [
    {
     "data": {
      "text/plain": [
       "tensor([4.], grad_fn=<PowBackward0>)"
      ]
     },
     "execution_count": 3,
     "metadata": {},
     "output_type": "execute_result"
    }
   ],
   "source": [
    "y = x ** 2\n",
    "y"
   ]
  },
  {
   "cell_type": "code",
   "execution_count": 4,
   "metadata": {},
   "outputs": [
    {
     "name": "stdout",
     "output_type": "stream",
     "text": [
      "The dervative at x = 2:  tensor([4.])\n"
     ]
    }
   ],
   "source": [
    "y.backward()\n",
    "print(\"The dervative at x = 2: \", x.grad)"
   ]
  },
  {
   "attachments": {},
   "cell_type": "markdown",
   "metadata": {},
   "source": [
    "Now, we will do the same when inputs have multiple data points. Now our function will be $f(x_{1}, x_{2}, x_{3}, x_{4}) = x^{2}_{1} + x^{2}_{2} + x^{2}_{3} + x^{2}_{4}$. Since we have $4$ variables now, such as $x_{1}, x_{2}, x_{3},$ and $x_{4}$, we can not simply compute the derivative. Now we have to compute the partial derivatives of the function $f(x)$ with respect to all the variables individually. Here the partial derivatives will be $\\frac{df}{dx_{1}} = 2{x_{1}}$, $\\frac{df}{dx_{2}} = 2{x_{2}}$, $\\frac{df}{dx_{3}} = 2{x_{3}}$, $\\frac{df}{dx_{4}} = 2{x_{4}}$."
   ]
  },
  {
   "cell_type": "code",
   "execution_count": 5,
   "metadata": {},
   "outputs": [
    {
     "data": {
      "text/plain": [
       "tensor([ 2., -2.,  3., -3.], requires_grad=True)"
      ]
     },
     "execution_count": 5,
     "metadata": {},
     "output_type": "execute_result"
    }
   ],
   "source": [
    "x = torch.tensor([2, -2, 3, -3], dtype=torch.float32, requires_grad=True)\n",
    "x"
   ]
  },
  {
   "cell_type": "code",
   "execution_count": 6,
   "metadata": {},
   "outputs": [
    {
     "data": {
      "text/plain": [
       "tensor(26., grad_fn=<SumBackward0>)"
      ]
     },
     "execution_count": 6,
     "metadata": {},
     "output_type": "execute_result"
    }
   ],
   "source": [
    "y = (x ** 2).sum()\n",
    "y"
   ]
  },
  {
   "cell_type": "code",
   "execution_count": 7,
   "metadata": {},
   "outputs": [
    {
     "name": "stdout",
     "output_type": "stream",
     "text": [
      "The dervative at x = 2:  tensor([ 4., -4.,  6., -6.])\n"
     ]
    }
   ],
   "source": [
    "y.backward()\n",
    "print(\"The dervative at x = 2: \", x.grad)"
   ]
  },
  {
   "cell_type": "markdown",
   "metadata": {},
   "source": [
    "# MNIST Dataset\n",
    "We will use the MNIST Sample dataset from the `Fastai` repository. This dataset contains\n",
    "a stripped down version of the actual MNIST hand written digits. It contains the digits\n",
    "$3$ and $7$ only. Our task will be build a `Logistic Regression` classifier to classify\n",
    "the digits. First, we will create dataloaders for both training and validation data."
   ]
  },
  {
   "cell_type": "code",
   "execution_count": 8,
   "metadata": {},
   "outputs": [
    {
     "data": {
      "text/plain": [
       "Path('C:/Users/musab/.fastai/data/mnist_sample')"
      ]
     },
     "execution_count": 8,
     "metadata": {},
     "output_type": "execute_result"
    }
   ],
   "source": [
    "# Loads MNIST dataset from Fast.ai repository\n",
    "# This trimmed dataset contains only 3s and 7s\n",
    "path = untar_data(URLs.MNIST_SAMPLE)\n",
    "path"
   ]
  },
  {
   "cell_type": "code",
   "execution_count": 9,
   "metadata": {},
   "outputs": [
    {
     "name": "stdout",
     "output_type": "stream",
     "text": [
      "[Path('C:/Users/musab/.fastai/data/mnist_sample/labels.csv'), Path('C:/Users/musab/.fastai/data/mnist_sample/train'), Path('C:/Users/musab/.fastai/data/mnist_sample/valid')]\n"
     ]
    }
   ],
   "source": [
    "print(path.ls())"
   ]
  },
  {
   "cell_type": "code",
   "execution_count": 10,
   "metadata": {},
   "outputs": [
    {
     "name": "stdout",
     "output_type": "stream",
     "text": [
      "[Path('C:/Users/musab/.fastai/data/mnist_sample/train/3'), Path('C:/Users/musab/.fastai/data/mnist_sample/train/7')]\n",
      "\n",
      "[Path('C:/Users/musab/.fastai/data/mnist_sample/valid/3'), Path('C:/Users/musab/.fastai/data/mnist_sample/valid/7')]\n"
     ]
    }
   ],
   "source": [
    "print((path / 'train').ls())\n",
    "print()\n",
    "print((path / 'valid').ls())"
   ]
  },
  {
   "cell_type": "markdown",
   "metadata": {},
   "source": [
    "### Training Set"
   ]
  },
  {
   "cell_type": "code",
   "execution_count": 11,
   "metadata": {},
   "outputs": [],
   "source": [
    "threes = (path/'train/3').ls().sorted()\n",
    "sevens = (path/'train/7').ls().sorted()\n",
    "\n",
    "seven_tensors = [tensor(Image.open(o)) for o in sevens]\n",
    "three_tensors = [tensor(Image.open(o)) for o in threes]\n",
    "\n",
    "stacked_sevens = torch.stack(seven_tensors).float() / 255\n",
    "stacked_threes = torch.stack(three_tensors).float() / 255"
   ]
  },
  {
   "cell_type": "code",
   "execution_count": 12,
   "metadata": {},
   "outputs": [
    {
     "data": {
      "text/plain": [
       "(torch.Size([12396, 784]), torch.Size([12396, 1]))"
      ]
     },
     "execution_count": 12,
     "metadata": {},
     "output_type": "execute_result"
    }
   ],
   "source": [
    "train_x = torch.cat([stacked_threes, stacked_sevens]).view(-1, 28 * 28)\n",
    "train_y = tensor([1] * len(threes) + [0] * len(sevens)).unsqueeze(1)\n",
    "\n",
    "train_x.shape,train_y.shape"
   ]
  },
  {
   "cell_type": "code",
   "execution_count": 13,
   "metadata": {},
   "outputs": [
    {
     "data": {
      "image/png": "[encoded data removed]",
      "text/plain": [
       "<Figure size 100x100 with 1 Axes>"
      ]
     },
     "metadata": {},
     "output_type": "display_data"
    }
   ],
   "source": [
    "dset = list(zip(train_x, train_y))\n",
    "\n",
    "x, y = dset[0]\n",
    "show_titled_image((x.view(28, 28), str(y.item())))"
   ]
  },
  {
   "cell_type": "markdown",
   "metadata": {},
   "source": [
    "### Validation Set"
   ]
  },
  {
   "cell_type": "code",
   "execution_count": 14,
   "metadata": {},
   "outputs": [],
   "source": [
    "valid_stacked_threes = torch.stack([tensor(Image.open(o)) for o in (path/'valid'/'3').ls()])\n",
    "valid_stacked_threes = valid_stacked_threes.float() / 255\n",
    "\n",
    "valid_stacked_sevens = torch.stack([tensor(Image.open(o)) for o in (path/'valid'/'7').ls()]) \n",
    "valid_stacked_sevens = valid_stacked_sevens.float() / 255"
   ]
  },
  {
   "cell_type": "code",
   "execution_count": 15,
   "metadata": {},
   "outputs": [
    {
     "data": {
      "text/plain": [
       "(torch.Size([2038, 784]), torch.Size([2038, 1]))"
      ]
     },
     "execution_count": 15,
     "metadata": {},
     "output_type": "execute_result"
    }
   ],
   "source": [
    "valid_x = torch.cat([valid_stacked_threes, valid_stacked_sevens]).view(-1, 28*28)\n",
    "valid_y = tensor([1] * len(valid_stacked_threes) + [0]*len(valid_stacked_sevens)).unsqueeze(1)\n",
    "\n",
    "valid_x.shape, valid_y.shape"
   ]
  },
  {
   "cell_type": "code",
   "execution_count": 16,
   "metadata": {},
   "outputs": [
    {
     "data": {
      "image/png": "[encoded data removed]",
      "text/plain": [
       "<Figure size 100x100 with 1 Axes>"
      ]
     },
     "metadata": {},
     "output_type": "display_data"
    }
   ],
   "source": [
    "valid_dset = list(zip(valid_x, valid_y))\n",
    "\n",
    "x, y = valid_dset[-1]\n",
    "show_titled_image((x.view(28, 28), str(y.item())))"
   ]
  },
  {
   "cell_type": "markdown",
   "metadata": {},
   "source": [
    "# Model\n",
    "We will use a 2 layer neural network where the first hidden layer has 16 neurons and\n",
    "the second hidden layer has 8 neurons. Our images are of size $28\\times28$. \n",
    "Therefore we will need a total number of $784\\times16$ weights for our first hidden\n",
    "layer, in addition to $16$ bias parameters. In the second hidden layer, we will need\n",
    "$16\\times8$ weights and $8$ bias parameters. Finally, in the output layer, we will\n",
    "need $8\\times1$ weights and $1$ parameters.\n",
    "\n",
    "### Initialize Parameters"
   ]
  },
  {
   "cell_type": "code",
   "execution_count": 17,
   "metadata": {},
   "outputs": [],
   "source": [
    "def init_params(size, std=0.1):\n",
    "    return (torch.randn(size) * std).requires_grad_()"
   ]
  },
  {
   "cell_type": "code",
   "execution_count": 18,
   "metadata": {},
   "outputs": [],
   "source": [
    "w1 = init_params((28*28, 16))\n",
    "b1 = init_params(16)\n",
    "w2 = init_params((16, 8))\n",
    "b2 = init_params(8)\n",
    "w3 = init_params((8, 1))\n",
    "b3 = init_params(1)"
   ]
  },
  {
   "cell_type": "code",
   "execution_count": 19,
   "metadata": {},
   "outputs": [
    {
     "name": "stdout",
     "output_type": "stream",
     "text": [
      "torch.Size([784, 16])\n",
      "torch.Size([16])\n",
      "torch.Size([16, 8])\n",
      "torch.Size([8])\n",
      "torch.Size([8, 1])\n",
      "torch.Size([1])\n"
     ]
    }
   ],
   "source": [
    "print(w1.data.shape)\n",
    "print(b1.data.shape)\n",
    "print(w2.data.shape)\n",
    "print(b2.data.shape)\n",
    "print(w3.data.shape)\n",
    "print(b3.data.shape)"
   ]
  },
  {
   "cell_type": "markdown",
   "metadata": {},
   "source": [
    "### Activation Functions\n",
    "We will define some useful activation functions that will be used in the model. We\n",
    "will use `relu` in the hidden layers, and `sigmoid` for prediction."
   ]
  },
  {
   "cell_type": "code",
   "execution_count": 20,
   "metadata": {},
   "outputs": [],
   "source": [
    "def sigmoid(x):\n",
    "    return 1 / (1 + torch.exp(-x))"
   ]
  },
  {
   "cell_type": "code",
   "execution_count": 21,
   "metadata": {},
   "outputs": [],
   "source": [
    "def relu(x):\n",
    "    return x.max(tensor(0.0))"
   ]
  },
  {
   "cell_type": "markdown",
   "metadata": {},
   "source": [
    "### Model"
   ]
  },
  {
   "cell_type": "code",
   "execution_count": 22,
   "metadata": {},
   "outputs": [],
   "source": [
    "def forward(x):\n",
    "    x = x @ w1 + b1\n",
    "    x = relu(x)\n",
    "    x = x @ w2 + b2\n",
    "    x = relu(x)\n",
    "    x = x @ w3 + b3\n",
    "    x = sigmoid(x)\n",
    "    return x"
   ]
  },
  {
   "cell_type": "markdown",
   "metadata": {},
   "source": [
    "### Loss Function\n",
    "We will need a loss function for gradient descent. In this custom loss function,\n",
    "we are simply calculating the distance from the prediction and the actual target.\n",
    "Since the prediction will be ranged between $0$ and $1$ due the `sigmoid` function\n",
    "in the output layer, we can safely avoid `MSE` loss function."
   ]
  },
  {
   "cell_type": "code",
   "execution_count": 23,
   "metadata": {},
   "outputs": [],
   "source": [
    "def mnist_loss(predictions, targets):\n",
    "    return torch.where(targets == 1, 1 - predictions, predictions).mean()"
   ]
  },
  {
   "cell_type": "markdown",
   "metadata": {},
   "source": [
    "### Training"
   ]
  },
  {
   "cell_type": "code",
   "execution_count": 24,
   "metadata": {},
   "outputs": [],
   "source": [
    "lr = 0.01\n",
    "epochs = 25"
   ]
  },
  {
   "cell_type": "code",
   "execution_count": 25,
   "metadata": {},
   "outputs": [],
   "source": [
    "dl = DataLoader(dset, batch_size=256)\n",
    "valid_dl = DataLoader(valid_dset, batch_size=256)"
   ]
  },
  {
   "cell_type": "code",
   "execution_count": 26,
   "metadata": {},
   "outputs": [
    {
     "name": "stdout",
     "output_type": "stream",
     "text": [
      "Epoch 0: Loss 0.49750778018211833, Validation Accuracy 0.4931640625\n",
      "Epoch 1: Loss 0.49600484602305356, Validation Accuracy 0.4931640625\n",
      "Epoch 2: Loss 0.4940931876094974, Validation Accuracy 0.4931640625\n",
      "Epoch 3: Loss 0.49158884797777447, Validation Accuracy 0.4931640625\n",
      "Epoch 4: Loss 0.488229726650277, Validation Accuracy 0.4931640625\n",
      "Epoch 5: Loss 0.48363932845543844, Validation Accuracy 0.4931640625\n",
      "Epoch 6: Loss 0.47726928579564, Validation Accuracy 0.4931640625\n",
      "Epoch 7: Loss 0.46838827218328205, Validation Accuracy 0.4931640625\n",
      "Epoch 8: Loss 0.4561115849991234, Validation Accuracy 0.4931640625\n",
      "Epoch 9: Loss 0.4397937451698342, Validation Accuracy 0.4931640625\n",
      "Epoch 10: Loss 0.4197216477929329, Validation Accuracy 0.4931640625\n",
      "Epoch 11: Loss 0.3976158603113525, Validation Accuracy 0.4931640625\n",
      "Epoch 12: Loss 0.37578730862967824, Validation Accuracy 0.4931640625\n",
      "Epoch 13: Loss 0.3557029231166353, Validation Accuracy 0.5748936102642277\n",
      "Epoch 14: Loss 0.33780731275981785, Validation Accuracy 0.7922780106707317\n",
      "Epoch 15: Loss 0.32159867350544247, Validation Accuracy 0.855762512703252\n",
      "Epoch 16: Loss 0.3064578203674482, Validation Accuracy 0.884301162347561\n",
      "Epoch 17: Loss 0.2916186489164829, Validation Accuracy 0.9065120045731707\n",
      "Epoch 18: Loss 0.27640018688172713, Validation Accuracy 0.922704681148374\n",
      "Epoch 19: Loss 0.2598146736925962, Validation Accuracy 0.9350506542174797\n",
      "Epoch 20: Loss 0.24073518926695903, Validation Accuracy 0.9444669397865854\n",
      "Epoch 21: Loss 0.21813666972578788, Validation Accuracy 0.9528471163617886\n",
      "Epoch 22: Loss 0.19165778342558412, Validation Accuracy 0.9568724593495935\n",
      "Epoch 23: Loss 0.16292127024154274, Validation Accuracy 0.9588652820121951\n",
      "Epoch 24: Loss 0.1360497207437851, Validation Accuracy 0.9593734120934959\n"
     ]
    }
   ],
   "source": [
    "for epoch in range(epochs):\n",
    "    losses = []\n",
    "\n",
    "    for xb, yb, in dl:\n",
    "        preds = forward(xb)\n",
    "        loss = mnist_loss(preds, yb)\n",
    "        losses.append(loss.item())\n",
    "        loss.backward()\n",
    "\n",
    "        w1.data -= w1.grad * lr\n",
    "        w2.data -= w2.grad * lr\n",
    "        w3.data -= w3.grad * lr\n",
    "\n",
    "        b1.data -= b1.grad * lr\n",
    "        b2.data -= b2.grad * lr\n",
    "        b3.data -= b3.grad * lr\n",
    "\n",
    "        w1.grad.zero_()\n",
    "        w2.grad.zero_()\n",
    "        w3.grad.zero_()\n",
    "        b1.grad.zero_()\n",
    "        b2.grad.zero_()\n",
    "        b3.grad.zero_()\n",
    "    \n",
    "    acc = []\n",
    "    for vx, vy in valid_dl:\n",
    "        v_preds = forward(vx)\n",
    "        v_preds = torch.where(v_preds >= 0.5, 1, 0)\n",
    "        acc.append(torch.sum(v_preds == vy).item() / vx.shape[0])\n",
    "\n",
    "    print(\"Epoch {}: Loss {}, Validation Accuracy {}\".format(epoch, sum(losses) / len(losses), \n",
    "            sum(acc) / len(acc)))"
   ]
  }
 ],
 "metadata": {
  "kernelspec": {
   "display_name": "Python 3.9.13 64-bit",
   "language": "python",
   "name": "python3"
  },
  "language_info": {
   "codemirror_mode": {
    "name": "ipython",
    "version": 3
   },
   "file_extension": ".py",
   "mimetype": "text/x-python",
   "name": "python",
   "nbconvert_exporter": "python",
   "pygments_lexer": "ipython3",
   "version": "3.10.11"
  },
  "orig_nbformat": 4,
  "vscode": {
   "interpreter": {
    "hash": "b0fa6594d8f4cbf19f97940f81e996739fb7646882a419484c72d19e05852a7e"
   }
  }
 },
 "nbformat": 4,
 "nbformat_minor": 2
}
